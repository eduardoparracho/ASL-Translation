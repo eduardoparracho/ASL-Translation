{
 "cells": [
  {
   "cell_type": "code",
   "execution_count": null,
   "metadata": {},
   "outputs": [],
   "source": [
    "import pandas as pd\n",
    "import urllib.request\n",
    "import tarfile\n",
    "import os\n",
    "import zipfile\n",
    "import video_utils as vu\n",
    "import media_pipe_handler as mph"
   ]
  },
  {
   "cell_type": "code",
   "execution_count": 2,
   "metadata": {},
   "outputs": [],
   "source": [
    "\n",
    "download_url = \"https://download.microsoft.com/download/3/c/a/3ca92c78-1c4a-4a91-a7ee-6980c1d242ec/MS-ASL.zip\"\n",
    "dataset_path = \"msasl_dataset\"\n",
    "destination_path = \"msasl.zip\"\n",
    "urllib.request.urlretrieve(download_url, destination_path)\n",
    "\n",
    "# Extract the ZIP file\n",
    "with zipfile.ZipFile(destination_path, 'r') as zip_ref:\n",
    "    zip_ref.extractall(\"msasl_dataset\")"
   ]
  },
  {
   "cell_type": "code",
   "execution_count": 3,
   "metadata": {},
   "outputs": [],
   "source": [
    "MSASL_test = pd.read_json(\"{}/MS-ASL/MSASL_test.json\".format(dataset_path))\n",
    "\n"
   ]
  },
  {
   "cell_type": "code",
   "execution_count": 4,
   "metadata": {},
   "outputs": [
    {
     "name": "stderr",
     "output_type": "stream",
     "text": [
      "[debug] Encodings: locale UTF-8, fs utf-8, pref UTF-8, out UTF-8 (No ANSI), error UTF-8 (No ANSI), screen UTF-8 (No ANSI)\n",
      "[debug] yt-dlp version stable@2025.01.26 from yt-dlp/yt-dlp [3b4531934] API\n",
      "[debug] params: {'verbose': True, 'download_ranges': yt_dlp.utils.download_range_func(None, [(np.float64(25.459), np.float64(28.161))]), 'force_keyframes_at_cuts': True, 'outtmpl': 'clips/medicinewatch?v=UxuLj17UyDU.mkv', 'compat_opts': set(), 'http_headers': {'User-Agent': 'Mozilla/5.0 (Windows NT 10.0; Win64; x64) AppleWebKit/537.36 (KHTML, like Gecko) Chrome/90.0.4430.70 Safari/537.36', 'Accept': 'text/html,application/xhtml+xml,application/xml;q=0.9,*/*;q=0.8', 'Accept-Language': 'en-us,en;q=0.5', 'Sec-Fetch-Mode': 'navigate'}}\n",
      "[debug] Lazy loading extractors is disabled\n",
      "[debug] Python 3.12.9 (CPython arm64 64bit) - macOS-15.3-arm64-arm-64bit (OpenSSL 3.4.0 22 Oct 2024)\n",
      "[debug] exe versions: ffmpeg 7.1 (setts), ffprobe 7.1\n",
      "[debug] Optional libraries: sqlite3-3.49.0\n",
      "[debug] Proxy map: {}\n",
      "[debug] Request Handlers: urllib\n",
      "[debug] Loaded 1840 extractors\n"
     ]
    },
    {
     "name": "stdout",
     "output_type": "stream",
     "text": [
      "[youtube] Extracting URL: https://www.youtube.com/watch?v=UxuLj17UyDU\n",
      "[youtube] UxuLj17UyDU: Downloading webpage\n",
      "[youtube] UxuLj17UyDU: Downloading tv client config\n",
      "[youtube] UxuLj17UyDU: Downloading player 9c6dfc4a\n",
      "[youtube] UxuLj17UyDU: Downloading tv player API JSON\n",
      "[youtube] UxuLj17UyDU: Downloading ios player API JSON\n"
     ]
    },
    {
     "name": "stderr",
     "output_type": "stream",
     "text": [
      "[debug] Loading youtube-nsig.9c6dfc4a from cache\n",
      "[debug] [youtube] Decrypted nsig nkIbmBtQpWCHfIzp => kWRDImqr1cJ53A\n",
      "[debug] Loading youtube-nsig.9c6dfc4a from cache\n",
      "[debug] [youtube] Decrypted nsig lpX2Jhl9XAx6ZhyM => AAWKGJGrTPWb2A\n",
      "[debug] [youtube] UxuLj17UyDU: ios client https formats require a GVS PO Token which was not provided. They will be skipped as they may yield HTTP Error 403. You can manually pass a GVS PO Token for this client with --extractor-args \"youtube:po_token=ios.gvs+XXX\". For more information, refer to  https://github.com/yt-dlp/yt-dlp/wiki/PO-Token-Guide . To enable these broken formats anyway, pass --extractor-args \"youtube:formats=missing_pot\"\n"
     ]
    },
    {
     "name": "stdout",
     "output_type": "stream",
     "text": [
      "[youtube] UxuLj17UyDU: Downloading m3u8 information\n"
     ]
    },
    {
     "name": "stderr",
     "output_type": "stream",
     "text": [
      "[debug] Sort order given by extractor: quality, res, fps, hdr:12, source, vcodec, channels, acodec, lang, proto\n",
      "[debug] Formats sorted by: hasvid, ie_pref, quality, res, fps, hdr:12(7), source, vcodec, channels, acodec, lang, proto, size, br, asr, vext, aext, hasaud, id\n",
      "[debug] Default format spec: bestvideo*+bestaudio/best\n"
     ]
    },
    {
     "name": "stdout",
     "output_type": "stream",
     "text": [
      "[info] UxuLj17UyDU: Downloading 1 format(s): 136+251\n",
      "[info] UxuLj17UyDU: Downloading 1 time ranges: 25.5-28.2\n"
     ]
    },
    {
     "name": "stderr",
     "output_type": "stream",
     "text": [
      "[debug] Invoking ffmpeg downloader on \"https://rr2---sn-ovn-v2ve.googlevideo.com/videoplayback?expire=1739257969&ei=EaSqZ-yoIsqkp-oPicCA6QU&ip=89.154.228.32&id=o-AOaiEN5eoCxlwbG_BufWZVqXU_OO4D1NIPfUVZ4sORc7&itag=136&aitags=134%2C136%2C160%2C243&source=youtube&requiressl=yes&xpc=EgVo2aDSNQ%3D%3D&met=1739236369%2C&mh=ym&mm=31%2C29&mn=sn-ovn-v2ve%2Csn-ovn-apne&ms=au%2Crdu&mv=m&mvi=2&pl=23&rms=au%2Cau&initcwndbps=2438750&bui=AUWDL3xpDs4gKJXYeR0O7KxrMu8LuOO7Olup2IfsQeykzR-NoV1gqMeCvX8_418zClD9T00R7fkEqWft&spc=RjZbSXybV3b4zBG5klcNFexF-CuXQRVqlhcIyFPnNUE4V1VYG7esQKMKCjbtvV8&vprv=1&svpuc=1&mime=video%2Fmp4&ns=0CqGodSHFTT2oyx6_NDzof8Q&rqh=1&gir=yes&clen=13925907&dur=152.118&lmt=1699384637454661&mt=1739235671&fvip=6&keepalive=yes&lmw=1&fexp=51326932%2C51371294&c=TVHTML5&sefc=1&txp=1219224&n=AAWKGJGrTPWb2A&sparams=expire%2Cei%2Cip%2Cid%2Caitags%2Csource%2Crequiressl%2Cxpc%2Cbui%2Cspc%2Cvprv%2Csvpuc%2Cmime%2Cns%2Crqh%2Cgir%2Cclen%2Cdur%2Clmt&sig=AJfQdSswRAIgNHipSy1OKtgRgEBsTi8ZE_YWjQQfqQYPlNSjdaqedBQCIAPwLEe8LvEkEFHnFc4vrkvP_xf6xvke-bK8q2Y3IbjU&lsparams=met%2Cmh%2Cmm%2Cmn%2Cms%2Cmv%2Cmvi%2Cpl%2Crms%2Cinitcwndbps&lsig=AGluJ3MwRgIhAKJtbUc6cbv9H6mK2LgIdTzliCnB2F9-viKN8ObW3lQ5AiEAx9dlv8kRVJzeKY6bwAlaTtmuRkPRVI5-cHaZeUoujDk%3D\", \"https://rr2---sn-ovn-v2ve.googlevideo.com/videoplayback?expire=1739257969&ei=EaSqZ-yoIsqkp-oPicCA6QU&ip=89.154.228.32&id=o-AOaiEN5eoCxlwbG_BufWZVqXU_OO4D1NIPfUVZ4sORc7&itag=251&source=youtube&requiressl=yes&xpc=EgVo2aDSNQ%3D%3D&met=1739236369%2C&mh=ym&mm=31%2C29&mn=sn-ovn-v2ve%2Csn-ovn-apne&ms=au%2Crdu&mv=m&mvi=2&pl=23&rms=au%2Cau&initcwndbps=2438750&bui=AUWDL3xpDs4gKJXYeR0O7KxrMu8LuOO7Olup2IfsQeykzR-NoV1gqMeCvX8_418zClD9T00R7fkEqWft&spc=RjZbSXybV3b4zBG5klcNFexF-CuXQRVqlhcIyFPnNUE4V1VYG7esQKMKCjbtvV8&vprv=1&svpuc=1&mime=audio%2Fwebm&ns=0CqGodSHFTT2oyx6_NDzof8Q&rqh=1&gir=yes&clen=2765885&dur=152.141&lmt=1694469690877645&mt=1739235671&fvip=6&keepalive=yes&lmw=1&fexp=51326932%2C51371294&c=TVHTML5&sefc=1&txp=1211224&n=AAWKGJGrTPWb2A&sparams=expire%2Cei%2Cip%2Cid%2Citag%2Csource%2Crequiressl%2Cxpc%2Cbui%2Cspc%2Cvprv%2Csvpuc%2Cmime%2Cns%2Crqh%2Cgir%2Cclen%2Cdur%2Clmt&sig=AJfQdSswRAIgGeAUGROOTGY7M_J8CoCAXnETkEjmzK2aFtqZLpLDoxICIGxqbZxOoUVAd4qNbJJqxZb9CtEwneGVu_hhVP4SLUdH&lsparams=met%2Cmh%2Cmm%2Cmn%2Cms%2Cmv%2Cmvi%2Cpl%2Crms%2Cinitcwndbps&lsig=AGluJ3MwRgIhAKJtbUc6cbv9H6mK2LgIdTzliCnB2F9-viKN8ObW3lQ5AiEAx9dlv8kRVJzeKY6bwAlaTtmuRkPRVI5-cHaZeUoujDk%3D\"\n"
     ]
    },
    {
     "name": "stdout",
     "output_type": "stream",
     "text": [
      "[download] Destination: clips/medicinewatch?v=UxuLj17UyDU.mkv\n"
     ]
    },
    {
     "name": "stderr",
     "output_type": "stream",
     "text": [
      "[debug] ffmpeg command line: ffmpeg -y -loglevel verbose -headers 'User-Agent: Mozilla/5.0 (Windows NT 10.0; Win64; x64) AppleWebKit/537.36 (KHTML, like Gecko) Chrome/90.0.4430.70 Safari/537.36\n",
      "Accept: text/html,application/xhtml+xml,application/xml;q=0.9,*/*;q=0.8\n",
      "Accept-Language: en-us,en;q=0.5\n",
      "Sec-Fetch-Mode: navigate\n",
      "' -ss 25.459 -t 2.7020000000000017 -i 'https://rr2---sn-ovn-v2ve.googlevideo.com/videoplayback?expire=1739257969&ei=EaSqZ-yoIsqkp-oPicCA6QU&ip=89.154.228.32&id=o-AOaiEN5eoCxlwbG_BufWZVqXU_OO4D1NIPfUVZ4sORc7&itag=136&aitags=134%2C136%2C160%2C243&source=youtube&requiressl=yes&xpc=EgVo2aDSNQ%3D%3D&met=1739236369%2C&mh=ym&mm=31%2C29&mn=sn-ovn-v2ve%2Csn-ovn-apne&ms=au%2Crdu&mv=m&mvi=2&pl=23&rms=au%2Cau&initcwndbps=2438750&bui=AUWDL3xpDs4gKJXYeR0O7KxrMu8LuOO7Olup2IfsQeykzR-NoV1gqMeCvX8_418zClD9T00R7fkEqWft&spc=RjZbSXybV3b4zBG5klcNFexF-CuXQRVqlhcIyFPnNUE4V1VYG7esQKMKCjbtvV8&vprv=1&svpuc=1&mime=video%2Fmp4&ns=0CqGodSHFTT2oyx6_NDzof8Q&rqh=1&gir=yes&clen=13925907&dur=152.118&lmt=1699384637454661&mt=1739235671&fvip=6&keepalive=yes&lmw=1&fexp=51326932%2C51371294&c=TVHTML5&sefc=1&txp=1219224&n=AAWKGJGrTPWb2A&sparams=expire%2Cei%2Cip%2Cid%2Caitags%2Csource%2Crequiressl%2Cxpc%2Cbui%2Cspc%2Cvprv%2Csvpuc%2Cmime%2Cns%2Crqh%2Cgir%2Cclen%2Cdur%2Clmt&sig=AJfQdSswRAIgNHipSy1OKtgRgEBsTi8ZE_YWjQQfqQYPlNSjdaqedBQCIAPwLEe8LvEkEFHnFc4vrkvP_xf6xvke-bK8q2Y3IbjU&lsparams=met%2Cmh%2Cmm%2Cmn%2Cms%2Cmv%2Cmvi%2Cpl%2Crms%2Cinitcwndbps&lsig=AGluJ3MwRgIhAKJtbUc6cbv9H6mK2LgIdTzliCnB2F9-viKN8ObW3lQ5AiEAx9dlv8kRVJzeKY6bwAlaTtmuRkPRVI5-cHaZeUoujDk%3D' -headers 'User-Agent: Mozilla/5.0 (Windows NT 10.0; Win64; x64) AppleWebKit/537.36 (KHTML, like Gecko) Chrome/90.0.4430.70 Safari/537.36\n",
      "Accept: text/html,application/xhtml+xml,application/xml;q=0.9,*/*;q=0.8\n",
      "Accept-Language: en-us,en;q=0.5\n",
      "Sec-Fetch-Mode: navigate\n",
      "' -ss 25.459 -t 2.7020000000000017 -i 'https://rr2---sn-ovn-v2ve.googlevideo.com/videoplayback?expire=1739257969&ei=EaSqZ-yoIsqkp-oPicCA6QU&ip=89.154.228.32&id=o-AOaiEN5eoCxlwbG_BufWZVqXU_OO4D1NIPfUVZ4sORc7&itag=251&source=youtube&requiressl=yes&xpc=EgVo2aDSNQ%3D%3D&met=1739236369%2C&mh=ym&mm=31%2C29&mn=sn-ovn-v2ve%2Csn-ovn-apne&ms=au%2Crdu&mv=m&mvi=2&pl=23&rms=au%2Cau&initcwndbps=2438750&bui=AUWDL3xpDs4gKJXYeR0O7KxrMu8LuOO7Olup2IfsQeykzR-NoV1gqMeCvX8_418zClD9T00R7fkEqWft&spc=RjZbSXybV3b4zBG5klcNFexF-CuXQRVqlhcIyFPnNUE4V1VYG7esQKMKCjbtvV8&vprv=1&svpuc=1&mime=audio%2Fwebm&ns=0CqGodSHFTT2oyx6_NDzof8Q&rqh=1&gir=yes&clen=2765885&dur=152.141&lmt=1694469690877645&mt=1739235671&fvip=6&keepalive=yes&lmw=1&fexp=51326932%2C51371294&c=TVHTML5&sefc=1&txp=1211224&n=AAWKGJGrTPWb2A&sparams=expire%2Cei%2Cip%2Cid%2Citag%2Csource%2Crequiressl%2Cxpc%2Cbui%2Cspc%2Cvprv%2Csvpuc%2Cmime%2Cns%2Crqh%2Cgir%2Cclen%2Cdur%2Clmt&sig=AJfQdSswRAIgGeAUGROOTGY7M_J8CoCAXnETkEjmzK2aFtqZLpLDoxICIGxqbZxOoUVAd4qNbJJqxZb9CtEwneGVu_hhVP4SLUdH&lsparams=met%2Cmh%2Cmm%2Cmn%2Cms%2Cmv%2Cmvi%2Cpl%2Crms%2Cinitcwndbps&lsig=AGluJ3MwRgIhAKJtbUc6cbv9H6mK2LgIdTzliCnB2F9-viKN8ObW3lQ5AiEAx9dlv8kRVJzeKY6bwAlaTtmuRkPRVI5-cHaZeUoujDk%3D' -map 0:0 -map 1:0 -f matroska 'file:clips/medicinewatch?v=UxuLj17UyDU.mkv.part'\n",
      "ffmpeg version 7.1 Copyright (c) 2000-2024 the FFmpeg developers\n",
      "  built with Apple clang version 16.0.0 (clang-1600.0.26.4)\n",
      "  configuration: --prefix=/opt/homebrew/Cellar/ffmpeg/7.1_4 --enable-shared --enable-pthreads --enable-version3 --cc=clang --host-cflags= --host-ldflags='-Wl,-ld_classic' --enable-ffplay --enable-gnutls --enable-gpl --enable-libaom --enable-libaribb24 --enable-libbluray --enable-libdav1d --enable-libharfbuzz --enable-libjxl --enable-libmp3lame --enable-libopus --enable-librav1e --enable-librist --enable-librubberband --enable-libsnappy --enable-libsrt --enable-libssh --enable-libsvtav1 --enable-libtesseract --enable-libtheora --enable-libvidstab --enable-libvmaf --enable-libvorbis --enable-libvpx --enable-libwebp --enable-libx264 --enable-libx265 --enable-libxml2 --enable-libxvid --enable-lzma --enable-libfontconfig --enable-libfreetype --enable-frei0r --enable-libass --enable-libopencore-amrnb --enable-libopencore-amrwb --enable-libopenjpeg --enable-libspeex --enable-libsoxr --enable-libzmq --enable-libzimg --disable-libjack --disable-indev=jack --enable-videotoolbox --enable-audiotoolbox --enable-neon\n",
      "  libavutil      59. 39.100 / 59. 39.100\n",
      "  libavcodec     61. 19.100 / 61. 19.100\n",
      "  libavformat    61.  7.100 / 61.  7.100\n",
      "  libavdevice    61.  3.100 / 61.  3.100\n",
      "  libavfilter    10.  4.100 / 10.  4.100\n",
      "  libswscale      8.  3.100 /  8.  3.100\n",
      "  libswresample   5.  3.100 /  5.  3.100\n",
      "  libpostproc    58.  3.100 / 58.  3.100\n",
      "[tcp @ 0x139f25590] Starting connection attempt to 193.126.242.77 port 443\n",
      "[tcp @ 0x139f25590] Successfully connected to 193.126.242.77 port 443\n",
      "[mov,mp4,m4a,3gp,3g2,mj2 @ 0x13b0046d0] advanced_editlist does not work with fragmented MP4. disabling.\n",
      "[h264 @ 0x13b005750] Reinit context to 1280x720, pix_fmt: yuv420p\n",
      "[tcp @ 0x13b46b950] Starting connection attempt to 193.126.242.77 port 443\n",
      "[tcp @ 0x13b46b950] Successfully connected to 193.126.242.77 port 443\n",
      "Input #0, mov,mp4,m4a,3gp,3g2,mj2, from 'https://rr2---sn-ovn-v2ve.googlevideo.com/videoplayback?expire=1739257969&ei=EaSqZ-yoIsqkp-oPicCA6QU&ip=89.154.228.32&id=o-AOaiEN5eoCxlwbG_BufWZVqXU_OO4D1NIPfUVZ4sORc7&itag=136&aitags=134%2C136%2C160%2C243&source=youtube&requiressl=yes&xpc=EgVo2aDSNQ%3D%3D&met=1739236369%2C&mh=ym&mm=31%2C29&mn=sn-ovn-v2ve%2Csn-ovn-apne&ms=au%2Crdu&mv=m&mvi=2&pl=23&rms=au%2Cau&initcwndbps=2438750&bui=AUWDL3xpDs4gKJXYeR0O7KxrMu8LuOO7Olup2IfsQeykzR-NoV1gqMeCvX8_418zClD9T00R7fkEqWft&spc=RjZbSXybV3b4zBG5klcNFexF-CuXQRVqlhcIyFPnNUE4V1VYG7esQKMKCjbtvV8&vprv=1&svpuc=1&mime=video%2Fmp4&ns=0CqGodSHFTT2oyx6_NDzof8Q&rqh=1&gir=yes&clen=13925907&dur=152.118&lmt=1699384637454661&mt=1739235671&fvip=6&keepalive=yes&lmw=1&fexp=51326932%2C51371294&c=TVHTML5&sefc=1&txp=1219224&n=AAWKGJGrTPWb2A&sparams=expire%2Cei%2Cip%2Cid%2Caitags%2Csource%2Crequiressl%2Cxpc%2Cbui%2Cspc%2Cvprv%2Csvpuc%2Cmime%2Cns%2Crqh%2Cgir%2Cclen%2Cdur%2Clmt&sig=AJfQdSswRAIgNHipSy1OKtgRgEBsTi8ZE_YWjQQfqQYPlNSjdaqedBQCIAPwLEe8LvEkEFHnFc4vrkvP_xf6xvke-bK8q2Y3IbjU&lsparams=met%2Cmh%2Cmm%2Cmn%2Cms%2Cmv%2Cmvi%2Cpl%2Crms%2Cinitcwndbps&lsig=AGluJ3MwRgIhAKJtbUc6cbv9H6mK2LgIdTzliCnB2F9-viKN8ObW3lQ5AiEAx9dlv8kRVJzeKY6bwAlaTtmuRkPRVI5-cHaZeUoujDk%3D':\n",
      "  Metadata:\n",
      "    major_brand     : dash\n",
      "    minor_version   : 0\n",
      "    compatible_brands: iso6avc1mp41\n",
      "    creation_time   : 2023-11-07T19:15:43.000000Z\n",
      "  Duration: 00:02:32.12, start: 0.000000, bitrate: 732 kb/s\n",
      "  Stream #0:0[0x1](und): Video: h264 (High), 1 reference frame (avc1 / 0x31637661), yuv420p(tv, bt709, progressive, left), 1280x720 [SAR 1:1 DAR 16:9], 758 kb/s, 29.97 fps, 29.97 tbr, 30k tbn (default)\n",
      "      Metadata:\n",
      "        creation_time   : 2023-11-07T19:15:43.000000Z\n",
      "        handler_name    : ISO Media file produced by Google Inc.\n",
      "        vendor_id       : [0][0][0][0]\n",
      "[tcp @ 0x139e1ac90] Starting connection attempt to 193.126.242.77 port 443\n",
      "[tcp @ 0x139e1ac90] Successfully connected to 193.126.242.77 port 443\n",
      "[tcp @ 0x10ba4bbc0] Starting connection attempt to 193.126.242.77 port 443\n",
      "[tcp @ 0x10ba4bbc0] Successfully connected to 193.126.242.77 port 443\n",
      "Input #1, matroska,webm, from 'https://rr2---sn-ovn-v2ve.googlevideo.com/videoplayback?expire=1739257969&ei=EaSqZ-yoIsqkp-oPicCA6QU&ip=89.154.228.32&id=o-AOaiEN5eoCxlwbG_BufWZVqXU_OO4D1NIPfUVZ4sORc7&itag=251&source=youtube&requiressl=yes&xpc=EgVo2aDSNQ%3D%3D&met=1739236369%2C&mh=ym&mm=31%2C29&mn=sn-ovn-v2ve%2Csn-ovn-apne&ms=au%2Crdu&mv=m&mvi=2&pl=23&rms=au%2Cau&initcwndbps=2438750&bui=AUWDL3xpDs4gKJXYeR0O7KxrMu8LuOO7Olup2IfsQeykzR-NoV1gqMeCvX8_418zClD9T00R7fkEqWft&spc=RjZbSXybV3b4zBG5klcNFexF-CuXQRVqlhcIyFPnNUE4V1VYG7esQKMKCjbtvV8&vprv=1&svpuc=1&mime=audio%2Fwebm&ns=0CqGodSHFTT2oyx6_NDzof8Q&rqh=1&gir=yes&clen=2765885&dur=152.141&lmt=1694469690877645&mt=1739235671&fvip=6&keepalive=yes&lmw=1&fexp=51326932%2C51371294&c=TVHTML5&sefc=1&txp=1211224&n=AAWKGJGrTPWb2A&sparams=expire%2Cei%2Cip%2Cid%2Citag%2Csource%2Crequiressl%2Cxpc%2Cbui%2Cspc%2Cvprv%2Csvpuc%2Cmime%2Cns%2Crqh%2Cgir%2Cclen%2Cdur%2Clmt&sig=AJfQdSswRAIgGeAUGROOTGY7M_J8CoCAXnETkEjmzK2aFtqZLpLDoxICIGxqbZxOoUVAd4qNbJJqxZb9CtEwneGVu_hhVP4SLUdH&lsparams=met%2Cmh%2Cmm%2Cmn%2Cms%2Cmv%2Cmvi%2Cpl%2Crms%2Cinitcwndbps&lsig=AGluJ3MwRgIhAKJtbUc6cbv9H6mK2LgIdTzliCnB2F9-viKN8ObW3lQ5AiEAx9dlv8kRVJzeKY6bwAlaTtmuRkPRVI5-cHaZeUoujDk%3D':\n",
      "  Metadata:\n",
      "    encoder         : google/video-file\n",
      "  Duration: 00:02:32.14, start: -0.007000, bitrate: 145 kb/s\n",
      "  Stream #1:0(eng): Audio: opus, 48000 Hz, stereo, fltp, delay 312 (default)\n",
      "[out#0/matroska @ 0x13b005070] Adding streams from explicit maps...\n",
      "[vost#0:0/libx264 @ 0x13b013310] Created video stream from input stream 0:0\n",
      "[aost#0:1/libvorbis @ 0x139f7c9b0] Created audio stream from input stream 1:0\n",
      "Stream mapping:\n",
      "  Stream #0:0 -> #0:0 (h264 (native) -> h264 (libx264))\n",
      "  Stream #1:0 -> #0:1 (opus (native) -> vorbis (libvorbis))\n",
      "[vost#0:0/libx264 @ 0x13b013310] Starting thread...\n",
      "[aost#0:1/libvorbis @ 0x139f7c9b0] Starting thread...\n",
      "[vf#0:0 @ 0x139f32e00] Starting thread...\n",
      "[af#0:1 @ 0x139f7d790] Starting thread...\n",
      "[vist#0:0/h264 @ 0x10b90fe20] [dec:h264 @ 0x13b013e20] Starting thread...\n",
      "[aist#1:0/opus @ 0x13b4e49d0] [dec:opus @ 0x139f7e910] Starting thread...\n",
      "[in#0/mov,mp4,m4a,3gp,3g2,mj2 @ 0x13b004470] Starting thread...\n",
      "[in#1/matroska,webm @ 0x139e14100] Starting thread...\n",
      "Press [q] to stop, [?] for help\n",
      "[h264 @ 0x139f26200] Reinit context to 1280x720, pix_fmt: yuv420p\n",
      "[graph_-1_in_1:0 @ 0x13b017ae0] tb:1/48000 samplefmt:fltp samplerate:48000 chlayout:stereo\n",
      "[graph -1 input from stream 0:0 @ 0x13b1074b0] w:1280 h:720 pixfmt:yuv420p tb:1/30000 fr:30000/1001 sar:1/1 csp:bt709 range:tv\n",
      "[graph -1 input from stream 0:0 @ 0x13b1074b0] video frame properties congruent with link at pts_time: -4.104333\n",
      "[libx264 @ 0x13b013690] using SAR=1/1\n",
      "[libx264 @ 0x13b013690] using cpu capabilities: ARMv8 NEON\n",
      "[libx264 @ 0x13b013690] profile High, level 3.1, 4:2:0, 8-bit\n",
      "[libx264 @ 0x13b013690] 264 - core 164 r3108 31e19f9 - H.264/MPEG-4 AVC codec - Copyleft 2003-2023 - http://www.videolan.org/x264.html - options: cabac=1 ref=3 deblock=1:0:0 analyse=0x3:0x113 me=hex subme=7 psy=1 psy_rd=1.00:0.00 mixed_ref=1 me_range=16 chroma_me=1 trellis=1 8x8dct=1 cqm=0 deadzone=21,11 fast_pskip=1 chroma_qp_offset=-2 threads=12 lookahead_threads=2 sliced_threads=0 nr=0 decimate=1 interlaced=0 bluray_compat=0 constrained_intra=0 bframes=3 b_pyramid=2 b_adapt=1 b_bias=0 direct=1 weightb=1 open_gop=0 weightp=2 keyint=250 keyint_min=25 scenecut=40 intra_refresh=0 rc_lookahead=40 rc=crf mbtree=1 crf=23.0 qcomp=0.60 qpmin=0 qpmax=69 qpstep=4 ip_ratio=1.40 aq=1:1.00\n",
      "Output #0, matroska, to 'file:clips/medicinewatch?v=UxuLj17UyDU.mkv.part':\n",
      "  Metadata:\n",
      "    major_brand     : dash\n",
      "    minor_version   : 0\n",
      "    compatible_brands: iso6avc1mp41\n",
      "    encoder         : Lavf61.7.100\n",
      "  Stream #0:0(und): Video: h264, 1 reference frame (H264 / 0x34363248), yuv420p(tv, bt709, progressive, left), 1280x720 [SAR 1:1 DAR 16:9], q=2-31, 29.97 fps, 1k tbn (default)\n",
      "      Metadata:\n",
      "        creation_time   : 2023-11-07T19:15:43.000000Z\n",
      "        handler_name    : ISO Media file produced by Google Inc.\n",
      "        vendor_id       : [0][0][0][0]\n",
      "        encoder         : Lavc61.19.100 libx264\n",
      "      Side data:\n",
      "        cpb: bitrate max/min/avg: 0/0/0 buffer size: 0 vbv_delay: N/A\n",
      "  Stream #0:1(eng): Audio: vorbis (oV[0][0] / 0x566F), 48000 Hz, stereo, fltp (default)\n",
      "      Metadata:\n",
      "        encoder         : Lavc61.19.100 libvorbis\n",
      "[out#0/matroska @ 0x13b005070] Starting thread...\n"
     ]
    },
    {
     "name": "stdout",
     "output_type": "stream",
     "text": [
      "[download] 100% of  278.99KiB in 00:00:01 at 140.40KiB/s\n",
      "True\n"
     ]
    },
    {
     "name": "stderr",
     "output_type": "stream",
     "text": [
      "[vf#0:0 @ 0x139f32e00] Filtergraph returned EOF, finishing\n",
      "[vf#0:0 @ 0x139f32e00] All consumers returned EOF\n",
      "[vist#0:0/h264 @ 0x10b90fe20] [dec:h264 @ 0x13b013e20] Decoder returned EOF, finishing\n",
      "[vist#0:0/h264 @ 0x10b90fe20] [dec:h264 @ 0x13b013e20] Terminating thread with return code 0 (success)\n",
      "[vf#0:0 @ 0x139f32e00] Terminating thread with return code 0 (success)\n",
      "[af#0:1 @ 0x139f7d790] Filtergraph returned EOF, finishing\n",
      "[af#0:1 @ 0x139f7d790] All consumers returned EOF\n",
      "[vost#0:0/libx264 @ 0x13b013310] Encoder thread received EOF\n",
      "[vist#0:0/h264 @ 0x10b90fe20] All consumers of this stream are done\n",
      "[in#0/mov,mp4,m4a,3gp,3g2,mj2 @ 0x13b004470] All consumers are done\n",
      "[in#0/mov,mp4,m4a,3gp,3g2,mj2 @ 0x13b004470] Terminating thread with return code 0 (success)\n",
      "[aost#0:1/libvorbis @ 0x139f7c9b0] Encoder thread received EOF\n",
      "[af#0:1 @ 0x139f7d790] Terminating thread with return code 0 (success)\n",
      "[aist#1:0/opus @ 0x13b4e49d0] [dec:opus @ 0x139f7e910] Decoder returned EOF, finishing\n",
      "[aist#1:0/opus @ 0x13b4e49d0] [dec:opus @ 0x139f7e910] Terminating thread with return code 0 (success)\n",
      "[aist#1:0/opus @ 0x13b4e49d0] All consumers of this stream are done\n",
      "[in#1/matroska,webm @ 0x139e14100] All consumers are done\n",
      "[in#1/matroska,webm @ 0x139e14100] Terminating thread with return code 0 (success)\n",
      "[aost#0:1/libvorbis @ 0x139f7c9b0] Terminating thread with return code 0 (success)\n",
      "[vost#0:0/libx264 @ 0x13b013310] Terminating thread with return code 0 (success)\n",
      "[out#0/matroska @ 0x13b005070] All streams finished\n",
      "[out#0/matroska @ 0x13b005070] Terminating thread with return code 0 (success)\n",
      "[AVIOContext @ 0x139f82260] Statistics: 290541 bytes written, 2 seeks, 3 writeouts\n",
      "[out#0/matroska @ 0x13b005070] Output file #0 (file:clips/medicinewatch?v=UxuLj17UyDU.mkv.part):\n",
      "[out#0/matroska @ 0x13b005070]   Output stream #0:0 (video): 81 frames encoded; 81 packets muxed (237055 bytes); \n",
      "[out#0/matroska @ 0x13b005070]   Output stream #0:1 (audio): 2027 frames encoded (129696 samples); 168 packets muxed (41981 bytes); \n",
      "[out#0/matroska @ 0x13b005070]   Total: 249 packets (279036 bytes) muxed\n",
      "[out#0/matroska @ 0x13b005070] video:231KiB audio:41KiB subtitle:0KiB other streams:0KiB global headers:4KiB muxing overhead: 2.381413%\n",
      "frame=   81 fps=0.0 q=-1.0 Lsize=     279KiB time=00:00:02.66 bitrate= 856.2kbits/s speed=7.45x    \n",
      "[libx264 @ 0x13b013690] frame I:1     Avg QP:17.12  size: 15394\n",
      "[libx264 @ 0x13b013690] frame P:33    Avg QP:18.57  size:  4686\n",
      "[libx264 @ 0x13b013690] frame B:47    Avg QP:20.98  size:  1411\n",
      "[libx264 @ 0x13b013690] consecutive B-frames:  1.2% 61.7%  7.4% 29.6%\n",
      "[libx264 @ 0x13b013690] mb I  I16..4: 50.3% 44.7%  5.1%\n",
      "[libx264 @ 0x13b013690] mb P  I16..4:  5.0%  6.7%  0.1%  P16..4: 19.0%  3.2%  1.4%  0.0%  0.0%    skip:64.7%\n",
      "[libx264 @ 0x13b013690] mb B  I16..4:  0.2%  0.3%  0.0%  B16..8: 20.5%  0.6%  0.1%  direct: 1.4%  skip:76.9%  L0:40.1% L1:58.9% BI: 1.1%\n",
      "[libx264 @ 0x13b013690] 8x8 transform intra:54.2% inter:88.5%\n",
      "[libx264 @ 0x13b013690] coded y,uvDC,uvAC intra: 17.3% 53.1% 4.9% inter: 2.4% 5.2% 0.0%\n",
      "[libx264 @ 0x13b013690] i16 v,h,dc,p: 44% 35% 13%  8%\n",
      "[libx264 @ 0x13b013690] i8 v,h,dc,ddl,ddr,vr,hd,vl,hu: 17% 19% 55%  2%  1%  1%  2%  2%  2%\n",
      "[libx264 @ 0x13b013690] i4 v,h,dc,ddl,ddr,vr,hd,vl,hu: 20% 48% 16%  3%  3%  3%  3%  3%  2%\n",
      "[libx264 @ 0x13b013690] i8c dc,h,v,p: 43% 27% 22%  9%\n",
      "[libx264 @ 0x13b013690] Weighted P-Frames: Y:0.0% UV:0.0%\n",
      "[libx264 @ 0x13b013690] ref P L0: 70.5%  8.1% 16.6%  4.8%\n",
      "[libx264 @ 0x13b013690] ref B L0: 88.3% 10.2%  1.4%\n",
      "[libx264 @ 0x13b013690] ref B L1: 97.0%  3.0%\n",
      "[libx264 @ 0x13b013690] kb/s:699.64\n",
      "[in#0/mov,mp4,m4a,3gp,3g2,mj2 @ 0x13b004470] Input file #0 (https://rr2---sn-ovn-v2ve.googlevideo.com/videoplayback?expire=1739257969&ei=EaSqZ-yoIsqkp-oPicCA6QU&ip=89.154.228.32&id=o-AOaiEN5eoCxlwbG_BufWZVqXU_OO4D1NIPfUVZ4sORc7&itag=136&aitags=134%2C136%2C160%2C243&source=youtube&requiressl=yes&xpc=EgVo2aDSNQ%3D%3D&met=1739236369%2C&mh=ym&mm=31%2C29&mn=sn-ovn-v2ve%2Csn-ovn-apne&ms=au%2Crdu&mv=m&mvi=2&pl=23&rms=au%2Cau&initcwndbps=2438750&bui=AUWDL3xpDs4gKJXYeR0O7KxrMu8LuOO7Olup2IfsQeykzR-NoV1gqMeCvX8_418zClD9T00R7fkEqWft&spc=RjZbSXybV3b4zBG5klcNFexF-CuXQRVqlhcIyFPnNUE4V1VYG7esQKMKCjbtvV8&vprv=1&svpuc=1&mime=video%2Fmp4&ns=0CqGodSHFTT2oyx6_NDzof8Q&rqh=1&gir=yes&clen=13925907&dur=152.118&lmt=1699384637454661&mt=1739235671&fvip=6&keepalive=yes&lmw=1&fexp=51326932%2C51371294&c=TVHTML5&sefc=1&txp=1219224&n=AAWKGJGrTPWb2A&sparams=expire%2Cei%2Cip%2Cid%2Caitags%2Csource%2Crequiressl%2Cxpc%2Cbui%2Cspc%2Cvprv%2Csvpuc%2Cmime%2Cns%2Crqh%2Cgir%2Cclen%2Cdur%2Clmt&sig=AJfQdSswRAIgNHipSy1OKtgRgEBsTi8ZE_YWjQQfqQYPlNSjdaqedBQCIAPwLEe8LvEkEFHnFc4vrkvP_xf6xvke-bK8q2Y3IbjU&lsparams=met%2Cmh%2Cmm%2Cmn%2Cms%2Cmv%2Cmvi%2Cpl%2Crms%2Cinitcwndbps&lsig=AGluJ3MwRgIhAKJtbUc6cbv9H6mK2LgIdTzliCnB2F9-viKN8ObW3lQ5AiEAx9dlv8kRVJzeKY6bwAlaTtmuRkPRVI5-cHaZeUoujDk%3D):\n",
      "[in#0/mov,mp4,m4a,3gp,3g2,mj2 @ 0x13b004470]   Input stream #0:0 (video): 232 packets read (591875 bytes); 215 frames decoded; 0 decode errors; \n",
      "[in#0/mov,mp4,m4a,3gp,3g2,mj2 @ 0x13b004470]   Total: 232 packets (591875 bytes) demuxed\n",
      "[AVIOContext @ 0x139e172d0] Statistics: 701580 bytes read, 1 seeks\n",
      "[in#1/matroska,webm @ 0x139e14100] Input file #1 (https://rr2---sn-ovn-v2ve.googlevideo.com/videoplayback?expire=1739257969&ei=EaSqZ-yoIsqkp-oPicCA6QU&ip=89.154.228.32&id=o-AOaiEN5eoCxlwbG_BufWZVqXU_OO4D1NIPfUVZ4sORc7&itag=251&source=youtube&requiressl=yes&xpc=EgVo2aDSNQ%3D%3D&met=1739236369%2C&mh=ym&mm=31%2C29&mn=sn-ovn-v2ve%2Csn-ovn-apne&ms=au%2Crdu&mv=m&mvi=2&pl=23&rms=au%2Cau&initcwndbps=2438750&bui=AUWDL3xpDs4gKJXYeR0O7KxrMu8LuOO7Olup2IfsQeykzR-NoV1gqMeCvX8_418zClD9T00R7fkEqWft&spc=RjZbSXybV3b4zBG5klcNFexF-CuXQRVqlhcIyFPnNUE4V1VYG7esQKMKCjbtvV8&vprv=1&svpuc=1&mime=audio%2Fwebm&ns=0CqGodSHFTT2oyx6_NDzof8Q&rqh=1&gir=yes&clen=2765885&dur=152.141&lmt=1694469690877645&mt=1739235671&fvip=6&keepalive=yes&lmw=1&fexp=51326932%2C51371294&c=TVHTML5&sefc=1&txp=1211224&n=AAWKGJGrTPWb2A&sparams=expire%2Cei%2Cip%2Cid%2Citag%2Csource%2Crequiressl%2Cxpc%2Cbui%2Cspc%2Cvprv%2Csvpuc%2Cmime%2Cns%2Crqh%2Cgir%2Cclen%2Cdur%2Clmt&sig=AJfQdSswRAIgGeAUGROOTGY7M_J8CoCAXnETkEjmzK2aFtqZLpLDoxICIGxqbZxOoUVAd4qNbJJqxZb9CtEwneGVu_hhVP4SLUdH&lsparams=met%2Cmh%2Cmm%2Cmn%2Cms%2Cmv%2Cmvi%2Cpl%2Crms%2Cinitcwndbps&lsig=AGluJ3MwRgIhAKJtbUc6cbv9H6mK2LgIdTzliCnB2F9-viKN8ObW3lQ5AiEAx9dlv8kRVJzeKY6bwAlaTtmuRkPRVI5-cHaZeUoujDk%3D):\n",
      "[in#1/matroska,webm @ 0x139e14100]   Input stream #1:0 (audio): 426 packets read (158361 bytes); 417 frames decoded; 0 decode errors (400008 samples); \n",
      "[in#1/matroska,webm @ 0x139e14100]   Total: 426 packets (158361 bytes) demuxed\n",
      "[AVIOContext @ 0x10bba7810] Statistics: 180224 bytes read, 1 seeks\n"
     ]
    }
   ],
   "source": [
    "print(vu.download_clip(MSASL_test.iloc[128]))"
   ]
  },
  {
   "cell_type": "code",
   "execution_count": null,
   "metadata": {},
   "outputs": [
    {
     "name": "stderr",
     "output_type": "stream",
     "text": [
      "[debug] Encodings: locale UTF-8, fs utf-8, pref UTF-8, out UTF-8 (No ANSI), error UTF-8 (No ANSI), screen UTF-8 (No ANSI)\n",
      "[debug] yt-dlp version stable@2025.01.26 from yt-dlp/yt-dlp [3b4531934] API\n",
      "[debug] params: {'verbose': True, 'download_ranges': yt_dlp.utils.download_range_func(None, [(np.float64(25.459), np.float64(28.161))]), 'force_keyframes_at_cuts': True, 'compat_opts': set(), 'http_headers': {'User-Agent': 'Mozilla/5.0 (Windows NT 10.0; Win64; x64) AppleWebKit/537.36 (KHTML, like Gecko) Chrome/95.0.4638.17 Safari/537.36', 'Accept': 'text/html,application/xhtml+xml,application/xml;q=0.9,*/*;q=0.8', 'Accept-Language': 'en-us,en;q=0.5', 'Sec-Fetch-Mode': 'navigate'}}\n",
      "[debug] Lazy loading extractors is disabled\n",
      "[debug] Python 3.12.9 (CPython arm64 64bit) - macOS-15.3-arm64-arm-64bit (OpenSSL 3.4.0 22 Oct 2024)\n",
      "[debug] exe versions: ffmpeg 7.1 (setts), ffprobe 7.1\n",
      "[debug] Optional libraries: sqlite3-3.49.0\n",
      "[debug] Proxy map: {}\n",
      "[debug] Request Handlers: urllib\n",
      "[debug] Loaded 1840 extractors\n"
     ]
    },
    {
     "name": "stdout",
     "output_type": "stream",
     "text": [
      "[youtube] Extracting URL: https://www.youtube.com/watch?v=UxuLj17UyDU\n",
      "[youtube] UxuLj17UyDU: Downloading webpage\n",
      "[youtube] UxuLj17UyDU: Downloading tv client config\n",
      "[youtube] UxuLj17UyDU: Downloading player 9c6dfc4a\n",
      "[youtube] UxuLj17UyDU: Downloading tv player API JSON\n",
      "[youtube] UxuLj17UyDU: Downloading ios player API JSON\n"
     ]
    },
    {
     "name": "stderr",
     "output_type": "stream",
     "text": [
      "[debug] Loading youtube-nsig.9c6dfc4a from cache\n",
      "[debug] [youtube] Decrypted nsig qZd4mF1NbCO2vRQZ => kyGaLWSHdvU6UQ\n",
      "[debug] Loading youtube-nsig.9c6dfc4a from cache\n",
      "[debug] [youtube] Decrypted nsig plxCsbZHWZHs93wv => OZSvKs6lDH2R0A\n",
      "[debug] [youtube] UxuLj17UyDU: ios client https formats require a GVS PO Token which was not provided. They will be skipped as they may yield HTTP Error 403. You can manually pass a GVS PO Token for this client with --extractor-args \"youtube:po_token=ios.gvs+XXX\". For more information, refer to  https://github.com/yt-dlp/yt-dlp/wiki/PO-Token-Guide . To enable these broken formats anyway, pass --extractor-args \"youtube:formats=missing_pot\"\n"
     ]
    },
    {
     "name": "stdout",
     "output_type": "stream",
     "text": [
      "[youtube] UxuLj17UyDU: Downloading m3u8 information\n"
     ]
    },
    {
     "name": "stderr",
     "output_type": "stream",
     "text": [
      "[debug] Sort order given by extractor: quality, res, fps, hdr:12, source, vcodec, channels, acodec, lang, proto\n",
      "[debug] Formats sorted by: hasvid, ie_pref, quality, res, fps, hdr:12(7), source, vcodec, channels, acodec, lang, proto, size, br, asr, vext, aext, hasaud, id\n",
      "[debug] Default format spec: bestvideo*+bestaudio/best\n"
     ]
    },
    {
     "name": "stdout",
     "output_type": "stream",
     "text": [
      "[info] UxuLj17UyDU: Downloading 1 format(s): 136+251\n",
      "[info] UxuLj17UyDU: Downloading 1 time ranges: 25.5-28.2\n"
     ]
    },
    {
     "name": "stderr",
     "output_type": "stream",
     "text": [
      "[debug] Invoking ffmpeg downloader on \"https://rr2---sn-ovn-v2ve.googlevideo.com/videoplayback?expire=1739257144&ei=2KCqZ4eZBu--mLAPpL2ZuAE&ip=89.154.228.32&id=o-AH_Wyc3LvgdYVzWyby3fu1r2dt0unZ9OfX-hBKUxPymu&itag=136&aitags=134%2C136%2C160%2C243&source=youtube&requiressl=yes&xpc=EgVo2aDSNQ%3D%3D&met=1739235544%2C&mh=ym&mm=31%2C29&mn=sn-ovn-v2ve%2Csn-ovn-apne&ms=au%2Crdu&mv=m&mvi=2&pcm2cms=yes&pl=23&rms=au%2Cau&initcwndbps=2316250&bui=AUWDL3yOWpyr33lm8wEj6oAE0Z9T1T2m_54XOTfk9780MW-mfOZT48ypKgbFaHV9kQqsvEz1Iz9sttsI&spc=RjZbSWSJrcwNNcACm3SyQ_FzkjuPLJWYAvPNbe56P7LTZxiQbbNPzCC1sN4PTQw&vprv=1&svpuc=1&mime=video%2Fmp4&ns=0SmazzsRwnBrMxbCj67PhIcQ&rqh=1&gir=yes&clen=13925907&dur=152.118&lmt=1699384637454661&mt=1739235177&fvip=6&keepalive=yes&lmw=1&fexp=51326932%2C51371294&c=TVHTML5&sefc=1&txp=1219224&n=OZSvKs6lDH2R0A&sparams=expire%2Cei%2Cip%2Cid%2Caitags%2Csource%2Crequiressl%2Cxpc%2Cbui%2Cspc%2Cvprv%2Csvpuc%2Cmime%2Cns%2Crqh%2Cgir%2Cclen%2Cdur%2Clmt&sig=AJfQdSswRQIhANFqzrVoUmK2KsZSdxnnlkuBxZpDG_uGoNSQI6mOi_8tAiAQtc4EQAmiNvmVSsV99PL__-SMGvlzHnO0BiwqGzZlNA%3D%3D&lsparams=met%2Cmh%2Cmm%2Cmn%2Cms%2Cmv%2Cmvi%2Cpcm2cms%2Cpl%2Crms%2Cinitcwndbps&lsig=AGluJ3MwRQIgBEDJt9x5z6Ek-lzuIKl_8HwYey5_Sic8oX-QCmQlbGcCIQD5NGDCQ90SfijMZLtnRVUtycE7vKtY0_3sjK51JmqFaw%3D%3D\", \"https://rr2---sn-ovn-v2ve.googlevideo.com/videoplayback?expire=1739257144&ei=2KCqZ4eZBu--mLAPpL2ZuAE&ip=89.154.228.32&id=o-AH_Wyc3LvgdYVzWyby3fu1r2dt0unZ9OfX-hBKUxPymu&itag=251&source=youtube&requiressl=yes&xpc=EgVo2aDSNQ%3D%3D&met=1739235544%2C&mh=ym&mm=31%2C29&mn=sn-ovn-v2ve%2Csn-ovn-apne&ms=au%2Crdu&mv=m&mvi=2&pcm2cms=yes&pl=23&rms=au%2Cau&initcwndbps=2316250&bui=AUWDL3yOWpyr33lm8wEj6oAE0Z9T1T2m_54XOTfk9780MW-mfOZT48ypKgbFaHV9kQqsvEz1Iz9sttsI&spc=RjZbSWSJrcwNNcACm3SyQ_FzkjuPLJWYAvPNbe56P7LTZxiQbbNPzCC1sN4PTQw&vprv=1&svpuc=1&mime=audio%2Fwebm&ns=0SmazzsRwnBrMxbCj67PhIcQ&rqh=1&gir=yes&clen=2765885&dur=152.141&lmt=1694469690877645&mt=1739235177&fvip=6&keepalive=yes&lmw=1&fexp=51326932%2C51371294&c=TVHTML5&sefc=1&txp=1211224&n=OZSvKs6lDH2R0A&sparams=expire%2Cei%2Cip%2Cid%2Citag%2Csource%2Crequiressl%2Cxpc%2Cbui%2Cspc%2Cvprv%2Csvpuc%2Cmime%2Cns%2Crqh%2Cgir%2Cclen%2Cdur%2Clmt&sig=AJfQdSswRgIhAN-gMUJtUMdfkdhpda6Nf4wHQwxyom0VlbTPilg0H7v5AiEA6aqiBLxFQjuMEcS_sF1rtea7Wm6PrQlghT3r5x4zf6c%3D&lsparams=met%2Cmh%2Cmm%2Cmn%2Cms%2Cmv%2Cmvi%2Cpcm2cms%2Cpl%2Crms%2Cinitcwndbps&lsig=AGluJ3MwRQIgBEDJt9x5z6Ek-lzuIKl_8HwYey5_Sic8oX-QCmQlbGcCIQD5NGDCQ90SfijMZLtnRVUtycE7vKtY0_3sjK51JmqFaw%3D%3D\"\n"
     ]
    },
    {
     "name": "stdout",
     "output_type": "stream",
     "text": [
      "[download] Destination: ASL2 Class 20 SIGNS [UxuLj17UyDU].mkv\n"
     ]
    },
    {
     "name": "stderr",
     "output_type": "stream",
     "text": [
      "[debug] ffmpeg command line: ffmpeg -y -loglevel verbose -headers 'User-Agent: Mozilla/5.0 (Windows NT 10.0; Win64; x64) AppleWebKit/537.36 (KHTML, like Gecko) Chrome/95.0.4638.17 Safari/537.36\n",
      "Accept: text/html,application/xhtml+xml,application/xml;q=0.9,*/*;q=0.8\n",
      "Accept-Language: en-us,en;q=0.5\n",
      "Sec-Fetch-Mode: navigate\n",
      "' -ss 25.459 -t 2.7020000000000017 -i 'https://rr2---sn-ovn-v2ve.googlevideo.com/videoplayback?expire=1739257144&ei=2KCqZ4eZBu--mLAPpL2ZuAE&ip=89.154.228.32&id=o-AH_Wyc3LvgdYVzWyby3fu1r2dt0unZ9OfX-hBKUxPymu&itag=136&aitags=134%2C136%2C160%2C243&source=youtube&requiressl=yes&xpc=EgVo2aDSNQ%3D%3D&met=1739235544%2C&mh=ym&mm=31%2C29&mn=sn-ovn-v2ve%2Csn-ovn-apne&ms=au%2Crdu&mv=m&mvi=2&pcm2cms=yes&pl=23&rms=au%2Cau&initcwndbps=2316250&bui=AUWDL3yOWpyr33lm8wEj6oAE0Z9T1T2m_54XOTfk9780MW-mfOZT48ypKgbFaHV9kQqsvEz1Iz9sttsI&spc=RjZbSWSJrcwNNcACm3SyQ_FzkjuPLJWYAvPNbe56P7LTZxiQbbNPzCC1sN4PTQw&vprv=1&svpuc=1&mime=video%2Fmp4&ns=0SmazzsRwnBrMxbCj67PhIcQ&rqh=1&gir=yes&clen=13925907&dur=152.118&lmt=1699384637454661&mt=1739235177&fvip=6&keepalive=yes&lmw=1&fexp=51326932%2C51371294&c=TVHTML5&sefc=1&txp=1219224&n=OZSvKs6lDH2R0A&sparams=expire%2Cei%2Cip%2Cid%2Caitags%2Csource%2Crequiressl%2Cxpc%2Cbui%2Cspc%2Cvprv%2Csvpuc%2Cmime%2Cns%2Crqh%2Cgir%2Cclen%2Cdur%2Clmt&sig=AJfQdSswRQIhANFqzrVoUmK2KsZSdxnnlkuBxZpDG_uGoNSQI6mOi_8tAiAQtc4EQAmiNvmVSsV99PL__-SMGvlzHnO0BiwqGzZlNA%3D%3D&lsparams=met%2Cmh%2Cmm%2Cmn%2Cms%2Cmv%2Cmvi%2Cpcm2cms%2Cpl%2Crms%2Cinitcwndbps&lsig=AGluJ3MwRQIgBEDJt9x5z6Ek-lzuIKl_8HwYey5_Sic8oX-QCmQlbGcCIQD5NGDCQ90SfijMZLtnRVUtycE7vKtY0_3sjK51JmqFaw%3D%3D' -headers 'User-Agent: Mozilla/5.0 (Windows NT 10.0; Win64; x64) AppleWebKit/537.36 (KHTML, like Gecko) Chrome/95.0.4638.17 Safari/537.36\n",
      "Accept: text/html,application/xhtml+xml,application/xml;q=0.9,*/*;q=0.8\n",
      "Accept-Language: en-us,en;q=0.5\n",
      "Sec-Fetch-Mode: navigate\n",
      "' -ss 25.459 -t 2.7020000000000017 -i 'https://rr2---sn-ovn-v2ve.googlevideo.com/videoplayback?expire=1739257144&ei=2KCqZ4eZBu--mLAPpL2ZuAE&ip=89.154.228.32&id=o-AH_Wyc3LvgdYVzWyby3fu1r2dt0unZ9OfX-hBKUxPymu&itag=251&source=youtube&requiressl=yes&xpc=EgVo2aDSNQ%3D%3D&met=1739235544%2C&mh=ym&mm=31%2C29&mn=sn-ovn-v2ve%2Csn-ovn-apne&ms=au%2Crdu&mv=m&mvi=2&pcm2cms=yes&pl=23&rms=au%2Cau&initcwndbps=2316250&bui=AUWDL3yOWpyr33lm8wEj6oAE0Z9T1T2m_54XOTfk9780MW-mfOZT48ypKgbFaHV9kQqsvEz1Iz9sttsI&spc=RjZbSWSJrcwNNcACm3SyQ_FzkjuPLJWYAvPNbe56P7LTZxiQbbNPzCC1sN4PTQw&vprv=1&svpuc=1&mime=audio%2Fwebm&ns=0SmazzsRwnBrMxbCj67PhIcQ&rqh=1&gir=yes&clen=2765885&dur=152.141&lmt=1694469690877645&mt=1739235177&fvip=6&keepalive=yes&lmw=1&fexp=51326932%2C51371294&c=TVHTML5&sefc=1&txp=1211224&n=OZSvKs6lDH2R0A&sparams=expire%2Cei%2Cip%2Cid%2Citag%2Csource%2Crequiressl%2Cxpc%2Cbui%2Cspc%2Cvprv%2Csvpuc%2Cmime%2Cns%2Crqh%2Cgir%2Cclen%2Cdur%2Clmt&sig=AJfQdSswRgIhAN-gMUJtUMdfkdhpda6Nf4wHQwxyom0VlbTPilg0H7v5AiEA6aqiBLxFQjuMEcS_sF1rtea7Wm6PrQlghT3r5x4zf6c%3D&lsparams=met%2Cmh%2Cmm%2Cmn%2Cms%2Cmv%2Cmvi%2Cpcm2cms%2Cpl%2Crms%2Cinitcwndbps&lsig=AGluJ3MwRQIgBEDJt9x5z6Ek-lzuIKl_8HwYey5_Sic8oX-QCmQlbGcCIQD5NGDCQ90SfijMZLtnRVUtycE7vKtY0_3sjK51JmqFaw%3D%3D' -map 0:0 -map 1:0 -f matroska 'file:ASL2 Class 20 SIGNS [UxuLj17UyDU].mkv.part'\n",
      "ffmpeg version 7.1 Copyright (c) 2000-2024 the FFmpeg developers\n",
      "  built with Apple clang version 16.0.0 (clang-1600.0.26.4)\n",
      "  configuration: --prefix=/opt/homebrew/Cellar/ffmpeg/7.1_4 --enable-shared --enable-pthreads --enable-version3 --cc=clang --host-cflags= --host-ldflags='-Wl,-ld_classic' --enable-ffplay --enable-gnutls --enable-gpl --enable-libaom --enable-libaribb24 --enable-libbluray --enable-libdav1d --enable-libharfbuzz --enable-libjxl --enable-libmp3lame --enable-libopus --enable-librav1e --enable-librist --enable-librubberband --enable-libsnappy --enable-libsrt --enable-libssh --enable-libsvtav1 --enable-libtesseract --enable-libtheora --enable-libvidstab --enable-libvmaf --enable-libvorbis --enable-libvpx --enable-libwebp --enable-libx264 --enable-libx265 --enable-libxml2 --enable-libxvid --enable-lzma --enable-libfontconfig --enable-libfreetype --enable-frei0r --enable-libass --enable-libopencore-amrnb --enable-libopencore-amrwb --enable-libopenjpeg --enable-libspeex --enable-libsoxr --enable-libzmq --enable-libzimg --disable-libjack --disable-indev=jack --enable-videotoolbox --enable-audiotoolbox --enable-neon\n",
      "  libavutil      59. 39.100 / 59. 39.100\n",
      "  libavcodec     61. 19.100 / 61. 19.100\n",
      "  libavformat    61.  7.100 / 61.  7.100\n",
      "  libavdevice    61.  3.100 / 61.  3.100\n",
      "  libavfilter    10.  4.100 / 10.  4.100\n",
      "  libswscale      8.  3.100 /  8.  3.100\n",
      "  libswresample   5.  3.100 /  5.  3.100\n",
      "  libpostproc    58.  3.100 / 58.  3.100\n",
      "[tcp @ 0x13f607330] Starting connection attempt to 193.126.242.77 port 443\n",
      "[tcp @ 0x13f607330] Successfully connected to 193.126.242.77 port 443\n",
      "[mov,mp4,m4a,3gp,3g2,mj2 @ 0x13f606730] advanced_editlist does not work with fragmented MP4. disabling.\n",
      "[h264 @ 0x12f7f5730] Reinit context to 1280x720, pix_fmt: yuv420p\n",
      "[tcp @ 0x10f704550] Starting connection attempt to 193.126.242.77 port 443\n",
      "[tcp @ 0x10f704550] Successfully connected to 193.126.242.77 port 443\n",
      "Input #0, mov,mp4,m4a,3gp,3g2,mj2, from 'https://rr2---sn-ovn-v2ve.googlevideo.com/videoplayback?expire=1739257144&ei=2KCqZ4eZBu--mLAPpL2ZuAE&ip=89.154.228.32&id=o-AH_Wyc3LvgdYVzWyby3fu1r2dt0unZ9OfX-hBKUxPymu&itag=136&aitags=134%2C136%2C160%2C243&source=youtube&requiressl=yes&xpc=EgVo2aDSNQ%3D%3D&met=1739235544%2C&mh=ym&mm=31%2C29&mn=sn-ovn-v2ve%2Csn-ovn-apne&ms=au%2Crdu&mv=m&mvi=2&pcm2cms=yes&pl=23&rms=au%2Cau&initcwndbps=2316250&bui=AUWDL3yOWpyr33lm8wEj6oAE0Z9T1T2m_54XOTfk9780MW-mfOZT48ypKgbFaHV9kQqsvEz1Iz9sttsI&spc=RjZbSWSJrcwNNcACm3SyQ_FzkjuPLJWYAvPNbe56P7LTZxiQbbNPzCC1sN4PTQw&vprv=1&svpuc=1&mime=video%2Fmp4&ns=0SmazzsRwnBrMxbCj67PhIcQ&rqh=1&gir=yes&clen=13925907&dur=152.118&lmt=1699384637454661&mt=1739235177&fvip=6&keepalive=yes&lmw=1&fexp=51326932%2C51371294&c=TVHTML5&sefc=1&txp=1219224&n=OZSvKs6lDH2R0A&sparams=expire%2Cei%2Cip%2Cid%2Caitags%2Csource%2Crequiressl%2Cxpc%2Cbui%2Cspc%2Cvprv%2Csvpuc%2Cmime%2Cns%2Crqh%2Cgir%2Cclen%2Cdur%2Clmt&sig=AJfQdSswRQIhANFqzrVoUmK2KsZSdxnnlkuBxZpDG_uGoNSQI6mOi_8tAiAQtc4EQAmiNvmVSsV99PL__-SMGvlzHnO0BiwqGzZlNA%3D%3D&lsparams=met%2Cmh%2Cmm%2Cmn%2Cms%2Cmv%2Cmvi%2Cpcm2cms%2Cpl%2Crms%2Cinitcwndbps&lsig=AGluJ3MwRQIgBEDJt9x5z6Ek-lzuIKl_8HwYey5_Sic8oX-QCmQlbGcCIQD5NGDCQ90SfijMZLtnRVUtycE7vKtY0_3sjK51JmqFaw%3D%3D':\n",
      "  Metadata:\n",
      "    major_brand     : dash\n",
      "    minor_version   : 0\n",
      "    compatible_brands: iso6avc1mp41\n",
      "    creation_time   : 2023-11-07T19:15:43.000000Z\n",
      "  Duration: 00:02:32.12, start: 0.000000, bitrate: 732 kb/s\n",
      "  Stream #0:0[0x1](und): Video: h264 (High), 1 reference frame (avc1 / 0x31637661), yuv420p(tv, bt709, progressive, left), 1280x720 [SAR 1:1 DAR 16:9], 758 kb/s, 29.97 fps, 29.97 tbr, 30k tbn (default)\n",
      "      Metadata:\n",
      "        creation_time   : 2023-11-07T19:15:43.000000Z\n",
      "        handler_name    : ISO Media file produced by Google Inc.\n",
      "        vendor_id       : [0][0][0][0]\n",
      "[tcp @ 0x10f763760] Starting connection attempt to 193.126.242.77 port 443\n",
      "[tcp @ 0x10f763760] Successfully connected to 193.126.242.77 port 443\n",
      "[tcp @ 0x10f66eee0] Starting connection attempt to 193.126.242.77 port 443\n",
      "[tcp @ 0x10f66eee0] Successfully connected to 193.126.242.77 port 443\n",
      "Input #1, matroska,webm, from 'https://rr2---sn-ovn-v2ve.googlevideo.com/videoplayback?expire=1739257144&ei=2KCqZ4eZBu--mLAPpL2ZuAE&ip=89.154.228.32&id=o-AH_Wyc3LvgdYVzWyby3fu1r2dt0unZ9OfX-hBKUxPymu&itag=251&source=youtube&requiressl=yes&xpc=EgVo2aDSNQ%3D%3D&met=1739235544%2C&mh=ym&mm=31%2C29&mn=sn-ovn-v2ve%2Csn-ovn-apne&ms=au%2Crdu&mv=m&mvi=2&pcm2cms=yes&pl=23&rms=au%2Cau&initcwndbps=2316250&bui=AUWDL3yOWpyr33lm8wEj6oAE0Z9T1T2m_54XOTfk9780MW-mfOZT48ypKgbFaHV9kQqsvEz1Iz9sttsI&spc=RjZbSWSJrcwNNcACm3SyQ_FzkjuPLJWYAvPNbe56P7LTZxiQbbNPzCC1sN4PTQw&vprv=1&svpuc=1&mime=audio%2Fwebm&ns=0SmazzsRwnBrMxbCj67PhIcQ&rqh=1&gir=yes&clen=2765885&dur=152.141&lmt=1694469690877645&mt=1739235177&fvip=6&keepalive=yes&lmw=1&fexp=51326932%2C51371294&c=TVHTML5&sefc=1&txp=1211224&n=OZSvKs6lDH2R0A&sparams=expire%2Cei%2Cip%2Cid%2Citag%2Csource%2Crequiressl%2Cxpc%2Cbui%2Cspc%2Cvprv%2Csvpuc%2Cmime%2Cns%2Crqh%2Cgir%2Cclen%2Cdur%2Clmt&sig=AJfQdSswRgIhAN-gMUJtUMdfkdhpda6Nf4wHQwxyom0VlbTPilg0H7v5AiEA6aqiBLxFQjuMEcS_sF1rtea7Wm6PrQlghT3r5x4zf6c%3D&lsparams=met%2Cmh%2Cmm%2Cmn%2Cms%2Cmv%2Cmvi%2Cpcm2cms%2Cpl%2Crms%2Cinitcwndbps&lsig=AGluJ3MwRQIgBEDJt9x5z6Ek-lzuIKl_8HwYey5_Sic8oX-QCmQlbGcCIQD5NGDCQ90SfijMZLtnRVUtycE7vKtY0_3sjK51JmqFaw%3D%3D':\n",
      "  Metadata:\n",
      "    encoder         : google/video-file\n",
      "  Duration: 00:02:32.14, start: -0.007000, bitrate: 145 kb/s\n",
      "  Stream #1:0(eng): Audio: opus, 48000 Hz, stereo, fltp, delay 312 (default)\n",
      "[out#0/matroska @ 0x13f606290] Adding streams from explicit maps...\n",
      "[vost#0:0/libx264 @ 0x13f60a480] Created video stream from input stream 0:0\n",
      "[aost#0:1/libvorbis @ 0x13f7578b0] Created audio stream from input stream 1:0\n",
      "Stream mapping:\n",
      "  Stream #0:0 -> #0:0 (h264 (native) -> h264 (libx264))\n",
      "  Stream #1:0 -> #0:1 (opus (native) -> vorbis (libvorbis))\n",
      "[vost#0:0/libx264 @ 0x13f60a480] Starting thread...\n",
      "[aost#0:1/libvorbis @ 0x13f7578b0] Starting thread...\n",
      "[vf#0:0 @ 0x13f60acc0] Starting thread...\n",
      "[af#0:1 @ 0x13f7587e0] Starting thread...\n",
      "[vist#0:0/h264 @ 0x10f762400] [dec:h264 @ 0x13f707700] Starting thread...\n",
      "[aist#1:0/opus @ 0x13f6090b0] [dec:opus @ 0x13f758d10] Starting thread...\n",
      "[in#0/mov,mp4,m4a,3gp,3g2,mj2 @ 0x13f6064b0] Starting thread...\n",
      "[in#1/matroska,webm @ 0x10f7622d0] Starting thread...\n",
      "Press [q] to stop, [?] for help\n",
      "[h264 @ 0x13f708b30] Reinit context to 1280x720, pix_fmt: yuv420p\n",
      "[graph_-1_in_1:0 @ 0x13f60fee0] tb:1/48000 samplefmt:fltp samplerate:48000 chlayout:stereo\n",
      "[graph -1 input from stream 0:0 @ 0x10f7637b0] w:1280 h:720 pixfmt:yuv420p tb:1/30000 fr:30000/1001 sar:1/1 csp:bt709 range:tv\n",
      "[graph -1 input from stream 0:0 @ 0x10f7637b0] video frame properties congruent with link at pts_time: -4.104333\n",
      "[libx264 @ 0x13f60a750] using SAR=1/1\n",
      "[libx264 @ 0x13f60a750] using cpu capabilities: ARMv8 NEON\n",
      "[libx264 @ 0x13f60a750] profile High, level 3.1, 4:2:0, 8-bit\n",
      "[libx264 @ 0x13f60a750] 264 - core 164 r3108 31e19f9 - H.264/MPEG-4 AVC codec - Copyleft 2003-2023 - http://www.videolan.org/x264.html - options: cabac=1 ref=3 deblock=1:0:0 analyse=0x3:0x113 me=hex subme=7 psy=1 psy_rd=1.00:0.00 mixed_ref=1 me_range=16 chroma_me=1 trellis=1 8x8dct=1 cqm=0 deadzone=21,11 fast_pskip=1 chroma_qp_offset=-2 threads=12 lookahead_threads=2 sliced_threads=0 nr=0 decimate=1 interlaced=0 bluray_compat=0 constrained_intra=0 bframes=3 b_pyramid=2 b_adapt=1 b_bias=0 direct=1 weightb=1 open_gop=0 weightp=2 keyint=250 keyint_min=25 scenecut=40 intra_refresh=0 rc_lookahead=40 rc=crf mbtree=1 crf=23.0 qcomp=0.60 qpmin=0 qpmax=69 qpstep=4 ip_ratio=1.40 aq=1:1.00\n",
      "Output #0, matroska, to 'file:ASL2 Class 20 SIGNS [UxuLj17UyDU].mkv.part':\n",
      "  Metadata:\n",
      "    major_brand     : dash\n",
      "    minor_version   : 0\n",
      "    compatible_brands: iso6avc1mp41\n",
      "    encoder         : Lavf61.7.100\n",
      "  Stream #0:0(und): Video: h264, 1 reference frame (H264 / 0x34363248), yuv420p(tv, bt709, progressive, left), 1280x720 [SAR 1:1 DAR 16:9], q=2-31, 29.97 fps, 1k tbn (default)\n",
      "      Metadata:\n",
      "        creation_time   : 2023-11-07T19:15:43.000000Z\n",
      "        handler_name    : ISO Media file produced by Google Inc.\n",
      "        vendor_id       : [0][0][0][0]\n",
      "        encoder         : Lavc61.19.100 libx264\n",
      "      Side data:\n",
      "        cpb: bitrate max/min/avg: 0/0/0 buffer size: 0 vbv_delay: N/A\n",
      "  Stream #0:1(eng): Audio: vorbis (oV[0][0] / 0x566F), 48000 Hz, stereo, fltp (default)\n",
      "      Metadata:\n",
      "        encoder         : Lavc61.19.100 libvorbis\n",
      "[out#0/matroska @ 0x13f606290] Starting thread...\n",
      "[vf#0:0 @ 0x13f60acc0] Filtergraph returned EOF, finishing\n",
      "[vf#0:0 @ 0x13f60acc0] All consumers returned EOF\n",
      "[vf#0:0 @ 0x13f60acc0] Terminating thread with return code 0 (success)\n",
      "[vist#0:0/h264 @ 0x10f762400] [dec:h264 @ 0x13f707700] Decoder returned EOF, finishing\n",
      "[vist#0:0/h264 @ 0x10f762400] [dec:h264 @ 0x13f707700] Terminating thread with return code 0 (success)\n",
      "[vist#0:0/h264 @ 0x10f762400] All consumers of this stream are done\n",
      "[in#0/mov,mp4,m4a,3gp,3g2,mj2 @ 0x13f6064b0] All consumers are done\n",
      "[in#0/mov,mp4,m4a,3gp,3g2,mj2 @ 0x13f6064b0] Terminating thread with return code 0 (success)\n"
     ]
    },
    {
     "name": "stdout",
     "output_type": "stream",
     "text": [
      "[download] 100% of  278.99KiB in 00:00:01 at 178.58KiB/s\n"
     ]
    },
    {
     "name": "stderr",
     "output_type": "stream",
     "text": [
      "[af#0:1 @ 0x13f7587e0] Filtergraph returned EOF, finishing\n",
      "[af#0:1 @ 0x13f7587e0] All consumers returned EOF\n",
      "[aost#0:1/libvorbis @ 0x13f7578b0] Encoder thread received EOF\n",
      "[vost#0:0/libx264 @ 0x13f60a480] Encoder thread received EOF\n",
      "[af#0:1 @ 0x13f7587e0] Terminating thread with return code 0 (success)\n",
      "[aist#1:0/opus @ 0x13f6090b0] [dec:opus @ 0x13f758d10] Decoder returned EOF, finishing\n",
      "[aist#1:0/opus @ 0x13f6090b0] [dec:opus @ 0x13f758d10] Terminating thread with return code 0 (success)\n",
      "[aist#1:0/opus @ 0x13f6090b0] All consumers of this stream are done\n",
      "[in#1/matroska,webm @ 0x10f7622d0] All consumers are done\n",
      "[in#1/matroska,webm @ 0x10f7622d0] Terminating thread with return code 0 (success)\n",
      "[aost#0:1/libvorbis @ 0x13f7578b0] Terminating thread with return code 0 (success)\n",
      "[vost#0:0/libx264 @ 0x13f60a480] Terminating thread with return code 0 (success)\n",
      "[out#0/matroska @ 0x13f606290] All streams finished\n",
      "[out#0/matroska @ 0x13f606290] Terminating thread with return code 0 (success)\n",
      "[AVIOContext @ 0x13f75d4e0] Statistics: 290541 bytes written, 2 seeks, 3 writeouts\n",
      "[out#0/matroska @ 0x13f606290] Output file #0 (file:ASL2 Class 20 SIGNS [UxuLj17UyDU].mkv.part):\n",
      "[out#0/matroska @ 0x13f606290]   Output stream #0:0 (video): 81 frames encoded; 81 packets muxed (237055 bytes); \n",
      "[out#0/matroska @ 0x13f606290]   Output stream #0:1 (audio): 2027 frames encoded (129696 samples); 168 packets muxed (41981 bytes); \n",
      "[out#0/matroska @ 0x13f606290]   Total: 249 packets (279036 bytes) muxed\n",
      "[out#0/matroska @ 0x13f606290] video:231KiB audio:41KiB subtitle:0KiB other streams:0KiB global headers:4KiB muxing overhead: 2.381413%\n",
      "frame=   81 fps=0.0 q=-1.0 Lsize=     279KiB time=00:00:02.66 bitrate= 856.2kbits/s speed=8.44x    \n",
      "[libx264 @ 0x13f60a750] frame I:1     Avg QP:17.12  size: 15394\n",
      "[libx264 @ 0x13f60a750] frame P:33    Avg QP:18.57  size:  4686\n",
      "[libx264 @ 0x13f60a750] frame B:47    Avg QP:20.98  size:  1411\n",
      "[libx264 @ 0x13f60a750] consecutive B-frames:  1.2% 61.7%  7.4% 29.6%\n",
      "[libx264 @ 0x13f60a750] mb I  I16..4: 50.3% 44.7%  5.1%\n",
      "[libx264 @ 0x13f60a750] mb P  I16..4:  5.0%  6.7%  0.1%  P16..4: 19.0%  3.2%  1.4%  0.0%  0.0%    skip:64.7%\n",
      "[libx264 @ 0x13f60a750] mb B  I16..4:  0.2%  0.3%  0.0%  B16..8: 20.5%  0.6%  0.1%  direct: 1.4%  skip:76.9%  L0:40.1% L1:58.9% BI: 1.1%\n",
      "[libx264 @ 0x13f60a750] 8x8 transform intra:54.2% inter:88.5%\n",
      "[libx264 @ 0x13f60a750] coded y,uvDC,uvAC intra: 17.3% 53.1% 4.9% inter: 2.4% 5.2% 0.0%\n",
      "[libx264 @ 0x13f60a750] i16 v,h,dc,p: 44% 35% 13%  8%\n",
      "[libx264 @ 0x13f60a750] i8 v,h,dc,ddl,ddr,vr,hd,vl,hu: 17% 19% 55%  2%  1%  1%  2%  2%  2%\n",
      "[libx264 @ 0x13f60a750] i4 v,h,dc,ddl,ddr,vr,hd,vl,hu: 20% 48% 16%  3%  3%  3%  3%  3%  2%\n",
      "[libx264 @ 0x13f60a750] i8c dc,h,v,p: 43% 27% 22%  9%\n",
      "[libx264 @ 0x13f60a750] Weighted P-Frames: Y:0.0% UV:0.0%\n",
      "[libx264 @ 0x13f60a750] ref P L0: 70.5%  8.1% 16.6%  4.8%\n",
      "[libx264 @ 0x13f60a750] ref B L0: 88.3% 10.2%  1.4%\n",
      "[libx264 @ 0x13f60a750] ref B L1: 97.0%  3.0%\n",
      "[libx264 @ 0x13f60a750] kb/s:699.64\n",
      "[in#0/mov,mp4,m4a,3gp,3g2,mj2 @ 0x13f6064b0] Input file #0 (https://rr2---sn-ovn-v2ve.googlevideo.com/videoplayback?expire=1739257144&ei=2KCqZ4eZBu--mLAPpL2ZuAE&ip=89.154.228.32&id=o-AH_Wyc3LvgdYVzWyby3fu1r2dt0unZ9OfX-hBKUxPymu&itag=136&aitags=134%2C136%2C160%2C243&source=youtube&requiressl=yes&xpc=EgVo2aDSNQ%3D%3D&met=1739235544%2C&mh=ym&mm=31%2C29&mn=sn-ovn-v2ve%2Csn-ovn-apne&ms=au%2Crdu&mv=m&mvi=2&pcm2cms=yes&pl=23&rms=au%2Cau&initcwndbps=2316250&bui=AUWDL3yOWpyr33lm8wEj6oAE0Z9T1T2m_54XOTfk9780MW-mfOZT48ypKgbFaHV9kQqsvEz1Iz9sttsI&spc=RjZbSWSJrcwNNcACm3SyQ_FzkjuPLJWYAvPNbe56P7LTZxiQbbNPzCC1sN4PTQw&vprv=1&svpuc=1&mime=video%2Fmp4&ns=0SmazzsRwnBrMxbCj67PhIcQ&rqh=1&gir=yes&clen=13925907&dur=152.118&lmt=1699384637454661&mt=1739235177&fvip=6&keepalive=yes&lmw=1&fexp=51326932%2C51371294&c=TVHTML5&sefc=1&txp=1219224&n=OZSvKs6lDH2R0A&sparams=expire%2Cei%2Cip%2Cid%2Caitags%2Csource%2Crequiressl%2Cxpc%2Cbui%2Cspc%2Cvprv%2Csvpuc%2Cmime%2Cns%2Crqh%2Cgir%2Cclen%2Cdur%2Clmt&sig=AJfQdSswRQIhANFqzrVoUmK2KsZSdxnnlkuBxZpDG_uGoNSQI6mOi_8tAiAQtc4EQAmiNvmVSsV99PL__-SMGvlzHnO0BiwqGzZlNA%3D%3D&lsparams=met%2Cmh%2Cmm%2Cmn%2Cms%2Cmv%2Cmvi%2Cpcm2cms%2Cpl%2Crms%2Cinitcwndbps&lsig=AGluJ3MwRQIgBEDJt9x5z6Ek-lzuIKl_8HwYey5_Sic8oX-QCmQlbGcCIQD5NGDCQ90SfijMZLtnRVUtycE7vKtY0_3sjK51JmqFaw%3D%3D):\n",
      "[in#0/mov,mp4,m4a,3gp,3g2,mj2 @ 0x13f6064b0]   Input stream #0:0 (video): 233 packets read (592413 bytes); 215 frames decoded; 0 decode errors; \n",
      "[in#0/mov,mp4,m4a,3gp,3g2,mj2 @ 0x13f6064b0]   Total: 233 packets (592413 bytes) demuxed\n",
      "[AVIOContext @ 0x12f7f4c40] Statistics: 701580 bytes read, 1 seeks\n",
      "[in#1/matroska,webm @ 0x10f7622d0] Input file #1 (https://rr2---sn-ovn-v2ve.googlevideo.com/videoplayback?expire=1739257144&ei=2KCqZ4eZBu--mLAPpL2ZuAE&ip=89.154.228.32&id=o-AH_Wyc3LvgdYVzWyby3fu1r2dt0unZ9OfX-hBKUxPymu&itag=251&source=youtube&requiressl=yes&xpc=EgVo2aDSNQ%3D%3D&met=1739235544%2C&mh=ym&mm=31%2C29&mn=sn-ovn-v2ve%2Csn-ovn-apne&ms=au%2Crdu&mv=m&mvi=2&pcm2cms=yes&pl=23&rms=au%2Cau&initcwndbps=2316250&bui=AUWDL3yOWpyr33lm8wEj6oAE0Z9T1T2m_54XOTfk9780MW-mfOZT48ypKgbFaHV9kQqsvEz1Iz9sttsI&spc=RjZbSWSJrcwNNcACm3SyQ_FzkjuPLJWYAvPNbe56P7LTZxiQbbNPzCC1sN4PTQw&vprv=1&svpuc=1&mime=audio%2Fwebm&ns=0SmazzsRwnBrMxbCj67PhIcQ&rqh=1&gir=yes&clen=2765885&dur=152.141&lmt=1694469690877645&mt=1739235177&fvip=6&keepalive=yes&lmw=1&fexp=51326932%2C51371294&c=TVHTML5&sefc=1&txp=1211224&n=OZSvKs6lDH2R0A&sparams=expire%2Cei%2Cip%2Cid%2Citag%2Csource%2Crequiressl%2Cxpc%2Cbui%2Cspc%2Cvprv%2Csvpuc%2Cmime%2Cns%2Crqh%2Cgir%2Cclen%2Cdur%2Clmt&sig=AJfQdSswRgIhAN-gMUJtUMdfkdhpda6Nf4wHQwxyom0VlbTPilg0H7v5AiEA6aqiBLxFQjuMEcS_sF1rtea7Wm6PrQlghT3r5x4zf6c%3D&lsparams=met%2Cmh%2Cmm%2Cmn%2Cms%2Cmv%2Cmvi%2Cpcm2cms%2Cpl%2Crms%2Cinitcwndbps&lsig=AGluJ3MwRQIgBEDJt9x5z6Ek-lzuIKl_8HwYey5_Sic8oX-QCmQlbGcCIQD5NGDCQ90SfijMZLtnRVUtycE7vKtY0_3sjK51JmqFaw%3D%3D):\n",
      "[in#1/matroska,webm @ 0x10f7622d0]   Input stream #1:0 (audio): 426 packets read (158361 bytes); 417 frames decoded; 0 decode errors (400008 samples); \n",
      "[in#1/matroska,webm @ 0x10f7622d0]   Total: 426 packets (158361 bytes) demuxed\n",
      "[AVIOContext @ 0x10f765310] Statistics: 180224 bytes read, 1 seeks\n"
     ]
    }
   ],
   "source": [
    "clip = MSASL_test.iloc[128]"
   ]
  }
 ],
 "metadata": {
  "kernelspec": {
   "display_name": ".venv (3.12.9)",
   "language": "python",
   "name": "python3"
  },
  "language_info": {
   "codemirror_mode": {
    "name": "ipython",
    "version": 3
   },
   "file_extension": ".py",
   "mimetype": "text/x-python",
   "name": "python",
   "nbconvert_exporter": "python",
   "pygments_lexer": "ipython3",
   "version": "3.12.9"
  }
 },
 "nbformat": 4,
 "nbformat_minor": 2
}
