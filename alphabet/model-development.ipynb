{
 "cells": [
  {
   "cell_type": "code",
   "execution_count": 60,
   "metadata": {},
   "outputs": [],
   "source": [
    "import tensorflow as tf\n",
    "import numpy as np\n",
    "import os\n",
    "from sklearn.model_selection import train_test_split\n",
    "from tensorflow.keras.utils import to_categorical\n",
    "\n",
    "# Path to saved keypoints - Change to your path to \"/content/drive/MyDrive/keypoints\" if in google colab\n",
    "\n",
    "N_CLASS = 26\n",
    "DATASET_PATH = \"keypoints\"\n",
    "MAX_SAMPLES = 0\n",
    "MODEL_NAME = \"alphabet_modelv2.h5\"\n",
    "\n"
   ]
  },
  {
   "cell_type": "code",
   "execution_count": null,
   "metadata": {},
   "outputs": [],
   "source": [
    "\n",
    "# the model output will be 1 to N_CLASS, which maps to A-Z and \"nothing, del and space\" (25)\n",
    "LABELS = {}\n",
    "\n",
    "# Load dataset\n",
    "X_train, y_train = [], []\n",
    "X_test, y_test = [], []\n",
    "labels = sorted(os.listdir(DATASET_PATH))  # Get sorted A-Z labels\n",
    "labels.pop()\n",
    "labels.pop()\n",
    "labels.pop()\n",
    "print(labels)\n",
    "\n",
    "for i, label in enumerate(labels):\n",
    "    keypoints_path = os.path.join(DATASET_PATH, label)\n",
    "    keypoints = np.load(keypoints_path)  # Load .npy file\n",
    "\n",
    "    LABELS[i] = label.split(\".\")[0]\n",
    "\n",
    "    KX_train, KX_test, Ky_train, Ky_test = train_test_split(keypoints, [i] * len(keypoints), test_size=0.2, random_state=42)\n",
    "\n",
    "    X_train.extend(KX_train)\n",
    "    X_test.extend(KX_test)\n",
    "    y_train.extend(Ky_train)\n",
    "    y_test.extend(Ky_test)\n",
    "\n",
    "# Convert lists to NumPy arrays\n",
    "X_train = np.array(X_train)\n",
    "X_test = np.array(X_test)\n",
    "y_train = np.array(y_train)\n",
    "y_test = np.array(y_test)\n",
    "\n",
    "y_test = to_categorical(y_test, num_classes=N_CLASS)\n",
    "y_train = to_categorical(y_train, num_classes=N_CLASS)\n",
    "\n",
    "print(LABELS)\n",
    "# encode labels (N_CLASS classes) - https://www.tensorflow.org/api_docs/python/tf/keras/utils/to_categorical\n",
    "\n",
    "\n",
    "# Define simple feedforward model\n",
    "model = tf.keras.Sequential([\n",
    "    tf.keras.layers.Input(shape=(42,)),  # 21 keypoints × (x, y)\n",
    "    tf.keras.layers.Dense(128, activation='relu'),\n",
    "    tf.keras.layers.BatchNormalization(),\n",
    "    #tf.keras.layers.Dropout(0.3),\n",
    "\n",
    "    tf.keras.layers.Dense(64, activation='relu'),\n",
    "    tf.keras.layers.BatchNormalization(),\n",
    "    #tf.keras.layers.Dropout(0.3),\n",
    "\n",
    "    tf.keras.layers.Dense(N_CLASS, activation='softmax')  # Output layer (N_CLASS classes)\n",
    "])\n",
    "\n",
    "# Compile model\n",
    "model.compile(\n",
    "    optimizer='adam',\n",
    "    loss='categorical_crossentropy',\n",
    "    metrics=['accuracy']\n",
    ")\n"
   ]
  },
  {
   "cell_type": "code",
   "execution_count": 38,
   "metadata": {},
   "outputs": [
    {
     "name": "stdout",
     "output_type": "stream",
     "text": [
      "Epoch 1/30\n",
      "\u001b[1m5154/5154\u001b[0m \u001b[32m━━━━━━━━━━━━━━━━━━━━\u001b[0m\u001b[37m\u001b[0m \u001b[1m3s\u001b[0m 495us/step - accuracy: 0.6004 - loss: 1.4367 - val_accuracy: 0.6413 - val_loss: 1.2309\n",
      "Epoch 2/30\n",
      "\u001b[1m5154/5154\u001b[0m \u001b[32m━━━━━━━━━━━━━━━━━━━━\u001b[0m\u001b[37m\u001b[0m \u001b[1m2s\u001b[0m 477us/step - accuracy: 0.6808 - loss: 1.1202 - val_accuracy: 0.6211 - val_loss: 1.2922\n",
      "Epoch 3/30\n",
      "\u001b[1m5154/5154\u001b[0m \u001b[32m━━━━━━━━━━━━━━━━━━━━\u001b[0m\u001b[37m\u001b[0m \u001b[1m2s\u001b[0m 471us/step - accuracy: 0.6912 - loss: 1.0771 - val_accuracy: 0.6219 - val_loss: 1.2761\n",
      "Epoch 4/30\n",
      "\u001b[1m5154/5154\u001b[0m \u001b[32m━━━━━━━━━━━━━━━━━━━━\u001b[0m\u001b[37m\u001b[0m \u001b[1m2s\u001b[0m 479us/step - accuracy: 0.6904 - loss: 1.0782 - val_accuracy: 0.6207 - val_loss: 1.2522\n",
      "Epoch 5/30\n",
      "\u001b[1m5154/5154\u001b[0m \u001b[32m━━━━━━━━━━━━━━━━━━━━\u001b[0m\u001b[37m\u001b[0m \u001b[1m2s\u001b[0m 474us/step - accuracy: 0.6897 - loss: 1.0792 - val_accuracy: 0.6701 - val_loss: 1.1364\n",
      "Epoch 6/30\n",
      "\u001b[1m5154/5154\u001b[0m \u001b[32m━━━━━━━━━━━━━━━━━━━━\u001b[0m\u001b[37m\u001b[0m \u001b[1m2s\u001b[0m 468us/step - accuracy: 0.6937 - loss: 1.0666 - val_accuracy: 0.6895 - val_loss: 1.0756\n",
      "Epoch 7/30\n",
      "\u001b[1m5154/5154\u001b[0m \u001b[32m━━━━━━━━━━━━━━━━━━━━\u001b[0m\u001b[37m\u001b[0m \u001b[1m3s\u001b[0m 485us/step - accuracy: 0.6988 - loss: 1.0445 - val_accuracy: 0.6932 - val_loss: 1.0641\n",
      "Epoch 8/30\n",
      "\u001b[1m5154/5154\u001b[0m \u001b[32m━━━━━━━━━━━━━━━━━━━━\u001b[0m\u001b[37m\u001b[0m \u001b[1m3s\u001b[0m 498us/step - accuracy: 0.6962 - loss: 1.0562 - val_accuracy: 0.6244 - val_loss: 1.3552\n",
      "Epoch 9/30\n",
      "\u001b[1m5154/5154\u001b[0m \u001b[32m━━━━━━━━━━━━━━━━━━━━\u001b[0m\u001b[37m\u001b[0m \u001b[1m3s\u001b[0m 504us/step - accuracy: 0.6960 - loss: 1.0565 - val_accuracy: 0.6976 - val_loss: 1.0681\n",
      "Epoch 10/30\n",
      "\u001b[1m5154/5154\u001b[0m \u001b[32m━━━━━━━━━━━━━━━━━━━━\u001b[0m\u001b[37m\u001b[0m \u001b[1m2s\u001b[0m 471us/step - accuracy: 0.7017 - loss: 1.0388 - val_accuracy: 0.6426 - val_loss: 1.2068\n",
      "Epoch 11/30\n",
      "\u001b[1m5154/5154\u001b[0m \u001b[32m━━━━━━━━━━━━━━━━━━━━\u001b[0m\u001b[37m\u001b[0m \u001b[1m2s\u001b[0m 474us/step - accuracy: 0.7019 - loss: 1.0380 - val_accuracy: 0.6894 - val_loss: 1.0665\n",
      "Epoch 12/30\n",
      "\u001b[1m5154/5154\u001b[0m \u001b[32m━━━━━━━━━━━━━━━━━━━━\u001b[0m\u001b[37m\u001b[0m \u001b[1m2s\u001b[0m 483us/step - accuracy: 0.7042 - loss: 1.0278 - val_accuracy: 0.6100 - val_loss: 1.2995\n",
      "Epoch 13/30\n",
      "\u001b[1m5154/5154\u001b[0m \u001b[32m━━━━━━━━━━━━━━━━━━━━\u001b[0m\u001b[37m\u001b[0m \u001b[1m3s\u001b[0m 495us/step - accuracy: 0.7050 - loss: 1.0237 - val_accuracy: 0.6759 - val_loss: 1.1230\n",
      "Epoch 14/30\n",
      "\u001b[1m5154/5154\u001b[0m \u001b[32m━━━━━━━━━━━━━━━━━━━━\u001b[0m\u001b[37m\u001b[0m \u001b[1m2s\u001b[0m 480us/step - accuracy: 0.7016 - loss: 1.0406 - val_accuracy: 0.6916 - val_loss: 1.0590\n",
      "Epoch 15/30\n",
      "\u001b[1m5154/5154\u001b[0m \u001b[32m━━━━━━━━━━━━━━━━━━━━\u001b[0m\u001b[37m\u001b[0m \u001b[1m2s\u001b[0m 475us/step - accuracy: 0.7022 - loss: 1.0360 - val_accuracy: 0.6938 - val_loss: 1.0637\n",
      "Epoch 16/30\n",
      "\u001b[1m5154/5154\u001b[0m \u001b[32m━━━━━━━━━━━━━━━━━━━━\u001b[0m\u001b[37m\u001b[0m \u001b[1m2s\u001b[0m 483us/step - accuracy: 0.7029 - loss: 1.0318 - val_accuracy: 0.6851 - val_loss: 1.0839\n",
      "Epoch 17/30\n",
      "\u001b[1m5154/5154\u001b[0m \u001b[32m━━━━━━━━━━━━━━━━━━━━\u001b[0m\u001b[37m\u001b[0m \u001b[1m2s\u001b[0m 482us/step - accuracy: 0.7068 - loss: 1.0225 - val_accuracy: 0.7100 - val_loss: 1.0186\n",
      "Epoch 18/30\n",
      "\u001b[1m5154/5154\u001b[0m \u001b[32m━━━━━━━━━━━━━━━━━━━━\u001b[0m\u001b[37m\u001b[0m \u001b[1m2s\u001b[0m 476us/step - accuracy: 0.7047 - loss: 1.0254 - val_accuracy: 0.7100 - val_loss: 1.0228\n",
      "Epoch 19/30\n",
      "\u001b[1m5154/5154\u001b[0m \u001b[32m━━━━━━━━━━━━━━━━━━━━\u001b[0m\u001b[37m\u001b[0m \u001b[1m3s\u001b[0m 505us/step - accuracy: 0.7060 - loss: 1.0228 - val_accuracy: 0.6953 - val_loss: 1.0464\n",
      "Epoch 20/30\n",
      "\u001b[1m5154/5154\u001b[0m \u001b[32m━━━━━━━━━━━━━━━━━━━━\u001b[0m\u001b[37m\u001b[0m \u001b[1m3s\u001b[0m 487us/step - accuracy: 0.7046 - loss: 1.0246 - val_accuracy: 0.6496 - val_loss: 1.2049\n",
      "Epoch 21/30\n",
      "\u001b[1m5154/5154\u001b[0m \u001b[32m━━━━━━━━━━━━━━━━━━━━\u001b[0m\u001b[37m\u001b[0m \u001b[1m3s\u001b[0m 486us/step - accuracy: 0.7046 - loss: 1.0255 - val_accuracy: 0.6786 - val_loss: 1.1204\n",
      "Epoch 22/30\n",
      "\u001b[1m5154/5154\u001b[0m \u001b[32m━━━━━━━━━━━━━━━━━━━━\u001b[0m\u001b[37m\u001b[0m \u001b[1m2s\u001b[0m 483us/step - accuracy: 0.7021 - loss: 1.0338 - val_accuracy: 0.7047 - val_loss: 1.0277\n",
      "Epoch 23/30\n",
      "\u001b[1m5154/5154\u001b[0m \u001b[32m━━━━━━━━━━━━━━━━━━━━\u001b[0m\u001b[37m\u001b[0m \u001b[1m2s\u001b[0m 483us/step - accuracy: 0.7031 - loss: 1.0317 - val_accuracy: 0.6841 - val_loss: 1.0902\n",
      "Epoch 24/30\n",
      "\u001b[1m5154/5154\u001b[0m \u001b[32m━━━━━━━━━━━━━━━━━━━━\u001b[0m\u001b[37m\u001b[0m \u001b[1m3s\u001b[0m 494us/step - accuracy: 0.7072 - loss: 1.0174 - val_accuracy: 0.7041 - val_loss: 1.0303\n",
      "Epoch 25/30\n",
      "\u001b[1m5154/5154\u001b[0m \u001b[32m━━━━━━━━━━━━━━━━━━━━\u001b[0m\u001b[37m\u001b[0m \u001b[1m3s\u001b[0m 497us/step - accuracy: 0.7085 - loss: 1.0136 - val_accuracy: 0.7039 - val_loss: 1.0275\n",
      "Epoch 26/30\n",
      "\u001b[1m5154/5154\u001b[0m \u001b[32m━━━━━━━━━━━━━━━━━━━━\u001b[0m\u001b[37m\u001b[0m \u001b[1m3s\u001b[0m 493us/step - accuracy: 0.7074 - loss: 1.0180 - val_accuracy: 0.7142 - val_loss: 1.0027\n",
      "Epoch 27/30\n",
      "\u001b[1m5154/5154\u001b[0m \u001b[32m━━━━━━━━━━━━━━━━━━━━\u001b[0m\u001b[37m\u001b[0m \u001b[1m3s\u001b[0m 493us/step - accuracy: 0.7087 - loss: 1.0121 - val_accuracy: 0.7076 - val_loss: 1.0213\n",
      "Epoch 28/30\n",
      "\u001b[1m5154/5154\u001b[0m \u001b[32m━━━━━━━━━━━━━━━━━━━━\u001b[0m\u001b[37m\u001b[0m \u001b[1m3s\u001b[0m 494us/step - accuracy: 0.7065 - loss: 1.0172 - val_accuracy: 0.7118 - val_loss: 1.0082\n",
      "Epoch 29/30\n",
      "\u001b[1m5154/5154\u001b[0m \u001b[32m━━━━━━━━━━━━━━━━━━━━\u001b[0m\u001b[37m\u001b[0m \u001b[1m3s\u001b[0m 490us/step - accuracy: 0.7076 - loss: 1.0152 - val_accuracy: 0.7031 - val_loss: 1.0310\n",
      "Epoch 30/30\n",
      "\u001b[1m5154/5154\u001b[0m \u001b[32m━━━━━━━━━━━━━━━━━━━━\u001b[0m\u001b[37m\u001b[0m \u001b[1m3s\u001b[0m 488us/step - accuracy: 0.7100 - loss: 1.0081 - val_accuracy: 0.7019 - val_loss: 1.0344\n"
     ]
    },
    {
     "name": "stderr",
     "output_type": "stream",
     "text": [
      "WARNING:absl:You are saving your model as an HDF5 file via `model.save()` or `keras.saving.save_model(model)`. This file format is considered legacy. We recommend using instead the native Keras format, e.g. `model.save('my_model.keras')` or `keras.saving.save_model(model, 'my_model.keras')`. \n"
     ]
    },
    {
     "name": "stdout",
     "output_type": "stream",
     "text": [
      "Model training complete and saved!\n"
     ]
    }
   ],
   "source": [
    "\n",
    "# Train the model\n",
    "history = model.fit(\n",
    "    X_train, y_train,\n",
    "    validation_data=(X_test, y_test),\n",
    "    epochs=30,  # Adjust as needed\n",
    "    batch_size=32,\n",
    "    verbose=1\n",
    ")\n",
    "\n",
    "# Save trained model\n",
    "model.save(\"alphabet_modelv2.h5\")\n",
    "print(\"Model training complete and saved!\")\n"
   ]
  },
  {
   "cell_type": "code",
   "execution_count": 39,
   "metadata": {},
   "outputs": [
    {
     "name": "stderr",
     "output_type": "stream",
     "text": [
      "WARNING:absl:Compiled the loaded model, but the compiled metrics have yet to be built. `model.compile_metrics` will be empty until you train or evaluate the model.\n"
     ]
    },
    {
     "name": "stdout",
     "output_type": "stream",
     "text": [
      "\u001b[1m1/1\u001b[0m \u001b[32m━━━━━━━━━━━━━━━━━━━━\u001b[0m\u001b[37m\u001b[0m \u001b[1m0s\u001b[0m 35ms/step\n",
      "[[8.8314679e-05 9.7427839e-01 9.6794367e-03 1.2720922e-03 5.8353073e-03\n",
      "  6.3611404e-04 2.6901532e-06 2.5409679e-05 8.9051615e-04 1.2573319e-05\n",
      "  3.3957639e-07 4.9387722e-07 3.2247270e-03 1.0968468e-04 1.6931945e-04\n",
      "  3.8647559e-05 1.4917265e-05 7.5823959e-04 4.9534442e-06 6.8482032e-06\n",
      "  1.8816232e-03 2.8252760e-05 9.9096296e-04 2.7967366e-05 1.0358875e-05\n",
      "  1.1889406e-05]]\n"
     ]
    }
   ],
   "source": [
    "import tensorflow as tf\n",
    "\n",
    "# Load the trained model\n",
    "model = tf.keras.models.load_model(\"alphabet_modelv2.h5\")\n",
    "\n",
    "# Print model summary to confirm it's loaded\n",
    "#model.summary()\n",
    "\n",
    "# Load a sample .npy file for prediction\n",
    "sample_keypoints = np.load(os.path.join(DATASET_PATH, 'B.npy'))\n",
    "\n",
    "# Use only the first element of the npy file\n",
    "sample_keypoints = sample_keypoints[0].reshape((1, -1))\n",
    "\n",
    "# Make a prediction\n",
    "prediction = model.predict(sample_keypoints)\n",
    "print(prediction)"
   ]
  },
  {
   "cell_type": "code",
   "execution_count": 40,
   "metadata": {},
   "outputs": [
    {
     "data": {
      "text/plain": [
       "<Axes: ylabel='accuracy'>"
      ]
     },
     "execution_count": 40,
     "metadata": {},
     "output_type": "execute_result"
    },
    {
     "data": {
      "image/png": "[encoded data removed]",
      "text/plain": [
       "<Figure size 640x480 with 1 Axes>"
      ]
     },
     "metadata": {},
     "output_type": "display_data"
    }
   ],
   "source": [
    "import seaborn as sns\n",
    "\n",
    "sns.lineplot(data=history.history, x=range(len(history.history['accuracy'])), y='accuracy')"
   ]
  },
  {
   "cell_type": "code",
   "execution_count": 41,
   "metadata": {},
   "outputs": [],
   "source": [
    "def get_label(output):\n",
    "    return LABELS.get(output)\n",
    "\n",
    "def predict_letter(model, keypoints):\n",
    "    \n",
    "    \"\"\"Predicts an ASL letter from extracted keypoints.\"\"\"\n",
    "    \n",
    "    keypoints = np.array(keypoints).reshape(1, -1)  # Ensure correct shape\n",
    "    prediction = model.predict(keypoints, verbose=False)\n",
    "    predicted_index = np.argmax(prediction)  # Get index of highest probability\n",
    "      # Map index to letter\n",
    "    predicted_letter = get_label(predicted_index)\n",
    "    return predicted_letter\n"
   ]
  },
  {
   "cell_type": "code",
   "execution_count": null,
   "metadata": {},
   "outputs": [
    {
     "name": "stderr",
     "output_type": "stream",
     "text": [
      "WARNING:absl:Compiled the loaded model, but the compiled metrics have yet to be built. `model.compile_metrics` will be empty until you train or evaluate the model.\n",
      "/var/folders/j_/kr9vwtx95p910gw4svyxjv8r0000gp/T/ipykernel_32329/3267913937.py:22: FutureWarning: ChainedAssignmentError: behaviour will change in pandas 3.0!\n",
      "You are setting values through chained assignment. Currently this works in certain cases, but when using Copy-on-Write (which will become the default behaviour in pandas 3.0) this will never work to update the original DataFrame or Series, because the intermediate object on which we are setting values will behave as a copy.\n",
      "A typical example is when you are setting values in a column of a DataFrame, like:\n",
      "\n",
      "df[\"col\"][row_indexer] = value\n",
      "\n",
      "Use `df.loc[row_indexer, \"col\"] = values` instead, to perform the assignment in a single step and ensure this keeps updating the original `df`.\n",
      "\n",
      "See the caveats in the documentation: https://pandas.pydata.org/pandas-docs/stable/user_guide/indexing.html#returning-a-view-versus-a-copy\n",
      "\n",
      "  df.loc[guess][correct] += 1\n"
     ]
    },
    {
     "name": "stdout",
     "output_type": "stream",
     "text": [
      "41238\n",
      "           A     B    C     D     E     F     G     H     I     J  ...    Q  \\\n",
      "labels                                                             ...        \n",
      "A       1049     0    3     0     7     0     4     0     0     0  ...    0   \n",
      "B          0  1224    0     0     0     0     0     0     0     0  ...    0   \n",
      "C          0     1  909     0     0     0     3     4     0     0  ...    2   \n",
      "D          0     0    0  1176     0     0     0     0     0     0  ...    0   \n",
      "E          0     0    0     0  1059     0     1     0     0     0  ...    0   \n",
      "F          0     1    0     1     0  1493     3     0     0     0  ...    0   \n",
      "G          0     0    2     0     0     0  1164     3     0     0  ...    0   \n",
      "H          0     0    0     0     0     0     4  1156     0     3  ...    0   \n",
      "I          0     1    0     6     0     0     0     0  1040     0  ...    0   \n",
      "J          1     0    0     0     0     0     0     1    68  1108  ...    0   \n",
      "K          0     0    0     1     0     0     3     0     0     0  ...    0   \n",
      "L          0     0    0     0     0     0     0     0     0     0  ...    0   \n",
      "M          0     0    0     0    12     1     0     0     9     1  ...    3   \n",
      "N        635   432  663   301   465   110   379   400   465   385  ...  610   \n",
      "O          2     0   40    23     2     0     0     2     3     0  ...    4   \n",
      "P          0     1    0     1     0     0     2     2     0     2  ...   13   \n",
      "Q          0     0   11     0     0     0     5     7     0     0  ...  959   \n",
      "R          1     0    0     4     0     0     0     5     0     0  ...    0   \n",
      "S          0     0    0     0     3     0     0     0     1     0  ...    0   \n",
      "T          1     0    1     0     0     0     0     0     3     0  ...    0   \n",
      "U          0     0    0     0     0     0     0     0     2     1  ...    0   \n",
      "V          0     0    0     1     0     0     1     0     0     0  ...    0   \n",
      "W          0     2    0     0     0     3     0     0     0     0  ...    0   \n",
      "X          0     0    0     9     1     0     0     0     0     1  ...    0   \n",
      "Y          0     0    0     0     0     0     0     0     0     0  ...    0   \n",
      "Z          3     0    1     3     0     0     0     2     0     0  ...    0   \n",
      "\n",
      "           R    S     T    U     V     W    X     Y     Z  \n",
      "labels                                                     \n",
      "A          2   82    33    0     0     0    1    16     3  \n",
      "B          0    0     0    1     0     1    0     0     0  \n",
      "C          0    0     1    0     0     0    0     0     0  \n",
      "D          0    0     0    0     0     0    0     0     0  \n",
      "E          0    2     0    0     0     0    0     0     0  \n",
      "F          0    2     0    1     1     1    1     0     0  \n",
      "G          0    0     0    0     0     0    0     0     3  \n",
      "H          0    0     0    0     0     0    1     0     0  \n",
      "I          0    0     0    0     0     0    2     0     1  \n",
      "J          0    0     0    0     0     0    0     0     0  \n",
      "K          1    0     0    3    14     0    1     0     0  \n",
      "L          0    0     0    0     0     0    0     0     0  \n",
      "M          3   16    10    0     0     1   11     0     2  \n",
      "N        402  507   547  410   279   346  598   415   421  \n",
      "O          2    1     1    0     0     0    1     2     0  \n",
      "P          0    0     0    0     0     0    0     0     0  \n",
      "Q          0    0     0    0     0     0    0     0     0  \n",
      "R       1188    0     0  195     1     2   35     0     2  \n",
      "S          0  983     0    0     0     0    1     0     0  \n",
      "T          0   17  1014    0     0     0    5     0     0  \n",
      "U          4    2     0  984    60     0    0     0     0  \n",
      "V          0    0     0    4  1157     8    0     0     0  \n",
      "W          2    2     0    1     8  1198    0     1     0  \n",
      "X          0    5     3    5     0     0  956     0     1  \n",
      "Y          0    0     1    0     0     0    0  1202     0  \n",
      "Z          1    3     1    1     0     1    6     0  1049  \n",
      "\n",
      "[26 rows x 26 columns]\n"
     ]
    }
   ],
   "source": [
    "import pandas as pd\n",
    "\n",
    "model = tf.keras.models.load_model(MODEL_NAME)\n",
    "\n",
    "columns = [\"labels\"]\n",
    "\n",
    "columns.extend(list(LABELS.values()))\n",
    "\n",
    "df = pd.DataFrame(columns=columns)\n",
    "\n",
    "for i in range(N_CLASS):\n",
    "    df.loc[len(df)] = ([0] * len(df.columns))\n",
    "\n",
    "df.labels = list(LABELS.values())\n",
    "df = df.set_index(\"labels\",drop=True)\n",
    "\n",
    "print(len(X_test))\n",
    "\n",
    "for i in range(len(X_test)):\n",
    "    guess = predict_letter(model, X_test[i])\n",
    "    correct = get_label(np.argmax(y_test[i]))\n",
    "    df.loc[guess][correct] += 1\n",
    "\n",
    "print(df)"
   ]
  },
  {
   "cell_type": "code",
   "execution_count": 57,
   "metadata": {},
   "outputs": [
    {
     "data": {
      "image/png": "[encoded data removed]",
      "text/plain": [
       "<Figure size 1000x1000 with 2 Axes>"
      ]
     },
     "metadata": {},
     "output_type": "display_data"
    }
   ],
   "source": [
    "import matplotlib.pyplot as plt\n",
    "\n",
    "fig, ax = plt.subplots(figsize=(10, 10))\n",
    "sns.heatmap(df, ax=ax, cmap='Purples')\n",
    "plt.show()\n"
   ]
  },
  {
   "cell_type": "code",
   "execution_count": 21,
   "metadata": {},
   "outputs": [
    {
     "data": {
      "text/plain": [
       "1692"
      ]
     },
     "execution_count": 21,
     "metadata": {},
     "output_type": "execute_result"
    }
   ],
   "source": [
    "int(df['A'].sum())"
   ]
  },
  {
   "cell_type": "code",
   "execution_count": null,
   "metadata": {},
   "outputs": [
    {
     "name": "stdout",
     "output_type": "stream",
     "text": [
      "   label correct incorrect  accuracy\n",
      "0      A    1049       643  0.619976\n",
      "1      B    1224       438  0.736462\n",
      "2      C     909       721  0.557669\n",
      "3      D    1176       350  0.770642\n",
      "4      E    1059       490  0.683667\n",
      "5      F    1493       114  0.929060\n",
      "6      G    1164       405  0.741874\n",
      "7      H    1156       426  0.730721\n",
      "8      I    1040       551  0.653677\n",
      "9      J    1108       393  0.738175\n",
      "10     K    1329       247  0.843274\n",
      "11     L    1312       276  0.826196\n",
      "12     M     746       834  0.472152\n",
      "13     N    1512        75  0.952741\n",
      "14     O    1058       570  0.649877\n",
      "15     P     920       601  0.604865\n",
      "16     Q     959       632  0.602766\n",
      "17     R    1188       417  0.740187\n",
      "18     S     983       639  0.606042\n",
      "19     T    1014       597  0.629423\n",
      "20     U     984       621  0.613084\n",
      "21     V    1157       363  0.761184\n",
      "22     W    1198       360  0.768935\n",
      "23     X     956       663  0.590488\n",
      "24     Y    1202       434  0.734719\n",
      "25     Z    1049       433  0.707827\n"
     ]
    },
    {
     "name": "stderr",
     "output_type": "stream",
     "text": [
      "/var/folders/j_/kr9vwtx95p910gw4svyxjv8r0000gp/T/ipykernel_32329/814615356.py:7: FutureWarning: The behavior of DataFrame concatenation with empty or all-NA entries is deprecated. In a future version, this will no longer exclude empty or all-NA columns when determining the result dtypes. To retain the old behavior, exclude the relevant entries before the concat operation.\n",
      "  metrics = pd.concat([metrics, pd.DataFrame([[label, correct, incorrect, accuracy]], columns=['label', 'correct', 'incorrect', 'accuracy'])], ignore_index=True)\n"
     ]
    }
   ],
   "source": [
    "metrics = pd.DataFrame(columns=['Label','Correct','incorrect','accuracy',''])\n",
    "\n",
    "for label in list(LABELS.values()):\n",
    "    correct = int(df[label][label])\n",
    "    incorrect = int(df[label].sum()) - correct\n",
    "    accuracy = correct / (correct + incorrect) if (correct + incorrect) > 0 else 0\n",
    "    metrics = pd.concat([metrics, pd.DataFrame([[label, correct, incorrect, accuracy]], columns=['label', 'correct', 'incorrect', 'accuracy'])], ignore_index=True)\n",
    "\n",
    "print(metrics)"
   ]
  },
  {
   "cell_type": "code",
   "execution_count": 59,
   "metadata": {},
   "outputs": [
    {
     "data": {
      "text/plain": [
       "<Axes: xlabel='label', ylabel='accuracy'>"
      ]
     },
     "execution_count": 59,
     "metadata": {},
     "output_type": "execute_result"
    },
    {
     "data": {
      "image/png": "[encoded data removed]",
      "text/plain": [
       "<Figure size 640x480 with 1 Axes>"
      ]
     },
     "metadata": {},
     "output_type": "display_data"
    }
   ],
   "source": [
    "sns.barplot(metrics,x='label',y='accuracy')"
   ]
  },
  {
   "cell_type": "code",
   "execution_count": 72,
   "metadata": {},
   "outputs": [],
   "source": [
    "path = MODEL_NAME.removesuffix(\".h5\")\n",
    "os.makedirs(f\"../models/{path}\", exist_ok=True)\n",
    "df.to_json(f\"../models/{path}/matrix.json\")\n",
    "metrics.to_json(f\"../models/{path}/metrics.json\")\n",
    "hist = pd.DataFrame(history.history).to_json(f\"../models/{path}/history.json\")\n"
   ]
  },
  {
   "cell_type": "code",
   "execution_count": null,
   "metadata": {},
   "outputs": [
    {
     "data": {
      "application/vnd.microsoft.datawrangler.viewer.v0+json": {
       "columns": [
        {
         "name": "index",
         "rawType": "int64",
         "type": "integer"
        },
        {
         "name": "accuracy",
         "rawType": "float64",
         "type": "float"
        },
        {
         "name": "loss",
         "rawType": "float64",
         "type": "float"
        },
        {
         "name": "val_accuracy",
         "rawType": "float64",
         "type": "float"
        },
        {
         "name": "val_loss",
         "rawType": "float64",
         "type": "float"
        }
       ],
       "conversionMethod": "pd.DataFrame",
       "ref": "e9afbf93-5f57-42de-8211-6765dfad87d8",
       "rows": [
        [
         "0",
         "0.6515321731567383",
         "1.2340818643569946",
         "0.6412532329559326",
         "1.230850100517273"
        ],
        [
         "1",
         "0.6823631525039673",
         "1.110618233680725",
         "0.6211261749267578",
         "1.2921781539916992"
        ],
        [
         "2",
         "0.6898283362388611",
         "1.0798856019973755",
         "0.6218536496162415",
         "1.2761062383651733"
        ],
        [
         "3",
         "0.6930666565895081",
         "1.068475365638733",
         "0.6206896305084229",
         "1.2522426843643188"
        ],
        [
         "4",
         "0.6939217448234558",
         "1.0640028715133667",
         "0.6701101064682007",
         "1.136426568031311"
        ],
        [
         "5",
         "0.6968325972557068",
         "1.0567299127578735",
         "0.6894854307174683",
         "1.0756402015686035"
        ],
        [
         "6",
         "0.698979377746582",
         "1.0465167760849",
         "0.6931955814361572",
         "1.0640658140182495"
        ],
        [
         "7",
         "0.6986700892448425",
         "1.0476106405258179",
         "0.6243513226509094",
         "1.3552329540252686"
        ],
        [
         "8",
         "0.6994948387145996",
         "1.0463318824768066",
         "0.6976332664489746",
         "1.068050742149353"
        ],
        [
         "9",
         "0.70103520154953",
         "1.0412895679473877",
         "0.6425869464874268",
         "1.2067792415618896"
        ],
        [
         "10",
         "0.7017325758934021",
         "1.0368322134017944",
         "0.6893884539604187",
         "1.0665489435195923"
        ],
        [
         "11",
         "0.7026847004890442",
         "1.0338863134384155",
         "0.610019862651825",
         "1.299492597579956"
        ],
        [
         "12",
         "0.7029029726982117",
         "1.0319551229476929",
         "0.6758814454078674",
         "1.1230353116989136"
        ],
        [
         "13",
         "0.7029454112052917",
         "1.0326634645462036",
         "0.6916193962097168",
         "1.0590449571609497"
        ],
        [
         "14",
         "0.7037338018417358",
         "1.0295865535736084",
         "0.6938260793685913",
         "1.0636777877807617"
        ],
        [
         "15",
         "0.7046555876731873",
         "1.0272302627563477",
         "0.6851205229759216",
         "1.0839215517044067"
        ],
        [
         "16",
         "0.7050315737724304",
         "1.0261249542236328",
         "0.7100247144699097",
         "1.0186325311660767"
        ],
        [
         "17",
         "0.7050800919532776",
         "1.0227410793304443",
         "0.7099762558937073",
         "1.0227714776992798"
        ],
        [
         "18",
         "0.7061595320701599",
         "1.0220469236373901",
         "0.6953295469284058",
         "1.0463693141937256"
        ],
        [
         "19",
         "0.7054803371429443",
         "1.0211840867996216",
         "0.6495950222015381",
         "1.2049179077148438"
        ],
        [
         "20",
         "0.7065779566764832",
         "1.0204089879989624",
         "0.6785731315612793",
         "1.1204051971435547"
        ],
        [
         "21",
         "0.7062080502510071",
         "1.0192643404006958",
         "0.7046656012535095",
         "1.0277174711227417"
        ],
        [
         "22",
         "0.707311749458313",
         "1.018480658531189",
         "0.6840535402297974",
         "1.0902438163757324"
        ],
        [
         "23",
         "0.7069782018661499",
         "1.017626166343689",
         "0.7041078805923462",
         "1.0303170680999756"
        ],
        [
         "24",
         "0.7070813179016113",
         "1.0176843404769897",
         "0.7038896083831787",
         "1.027513027191162"
        ],
        [
         "25",
         "0.7073056697845459",
         "1.0172683000564575",
         "0.714219868183136",
         "1.0027104616165161"
        ],
        [
         "26",
         "0.707602858543396",
         "1.01543128490448",
         "0.7075513005256653",
         "1.0213195085525513"
        ],
        [
         "27",
         "0.7076573967933655",
         "1.0133731365203857",
         "0.7117707133293152",
         "1.008188009262085"
        ],
        [
         "28",
         "0.7080637216567993",
         "1.013740062713623",
         "0.7031378746032715",
         "1.0310301780700684"
        ],
        [
         "29",
         "0.7085670828819275",
         "1.0126478672027588",
         "0.7019011378288269",
         "1.034385323524475"
        ]
       ],
       "shape": {
        "columns": 4,
        "rows": 30
       }
      },
      "text/html": [
       "<div>\n",
       "<style scoped>\n",
       "    .dataframe tbody tr th:only-of-type {\n",
       "        vertical-align: middle;\n",
       "    }\n",
       "\n",
       "    .dataframe tbody tr th {\n",
       "        vertical-align: top;\n",
       "    }\n",
       "\n",
       "    .dataframe thead th {\n",
       "        text-align: right;\n",
       "    }\n",
       "</style>\n",
       "<table border=\"1\" class=\"dataframe\">\n",
       "  <thead>\n",
       "    <tr style=\"text-align: right;\">\n",
       "      <th></th>\n",
       "      <th>accuracy</th>\n",
       "      <th>loss</th>\n",
       "      <th>val_accuracy</th>\n",
       "      <th>val_loss</th>\n",
       "    </tr>\n",
       "  </thead>\n",
       "  <tbody>\n",
       "    <tr>\n",
       "      <th>0</th>\n",
       "      <td>0.651532</td>\n",
       "      <td>1.234082</td>\n",
       "      <td>0.641253</td>\n",
       "      <td>1.230850</td>\n",
       "    </tr>\n",
       "    <tr>\n",
       "      <th>1</th>\n",
       "      <td>0.682363</td>\n",
       "      <td>1.110618</td>\n",
       "      <td>0.621126</td>\n",
       "      <td>1.292178</td>\n",
       "    </tr>\n",
       "    <tr>\n",
       "      <th>2</th>\n",
       "      <td>0.689828</td>\n",
       "      <td>1.079886</td>\n",
       "      <td>0.621854</td>\n",
       "      <td>1.276106</td>\n",
       "    </tr>\n",
       "    <tr>\n",
       "      <th>3</th>\n",
       "      <td>0.693067</td>\n",
       "      <td>1.068475</td>\n",
       "      <td>0.620690</td>\n",
       "      <td>1.252243</td>\n",
       "    </tr>\n",
       "    <tr>\n",
       "      <th>4</th>\n",
       "      <td>0.693922</td>\n",
       "      <td>1.064003</td>\n",
       "      <td>0.670110</td>\n",
       "      <td>1.136427</td>\n",
       "    </tr>\n",
       "    <tr>\n",
       "      <th>5</th>\n",
       "      <td>0.696833</td>\n",
       "      <td>1.056730</td>\n",
       "      <td>0.689485</td>\n",
       "      <td>1.075640</td>\n",
       "    </tr>\n",
       "    <tr>\n",
       "      <th>6</th>\n",
       "      <td>0.698979</td>\n",
       "      <td>1.046517</td>\n",
       "      <td>0.693196</td>\n",
       "      <td>1.064066</td>\n",
       "    </tr>\n",
       "    <tr>\n",
       "      <th>7</th>\n",
       "      <td>0.698670</td>\n",
       "      <td>1.047611</td>\n",
       "      <td>0.624351</td>\n",
       "      <td>1.355233</td>\n",
       "    </tr>\n",
       "    <tr>\n",
       "      <th>8</th>\n",
       "      <td>0.699495</td>\n",
       "      <td>1.046332</td>\n",
       "      <td>0.697633</td>\n",
       "      <td>1.068051</td>\n",
       "    </tr>\n",
       "    <tr>\n",
       "      <th>9</th>\n",
       "      <td>0.701035</td>\n",
       "      <td>1.041290</td>\n",
       "      <td>0.642587</td>\n",
       "      <td>1.206779</td>\n",
       "    </tr>\n",
       "    <tr>\n",
       "      <th>10</th>\n",
       "      <td>0.701733</td>\n",
       "      <td>1.036832</td>\n",
       "      <td>0.689388</td>\n",
       "      <td>1.066549</td>\n",
       "    </tr>\n",
       "    <tr>\n",
       "      <th>11</th>\n",
       "      <td>0.702685</td>\n",
       "      <td>1.033886</td>\n",
       "      <td>0.610020</td>\n",
       "      <td>1.299493</td>\n",
       "    </tr>\n",
       "    <tr>\n",
       "      <th>12</th>\n",
       "      <td>0.702903</td>\n",
       "      <td>1.031955</td>\n",
       "      <td>0.675881</td>\n",
       "      <td>1.123035</td>\n",
       "    </tr>\n",
       "    <tr>\n",
       "      <th>13</th>\n",
       "      <td>0.702945</td>\n",
       "      <td>1.032663</td>\n",
       "      <td>0.691619</td>\n",
       "      <td>1.059045</td>\n",
       "    </tr>\n",
       "    <tr>\n",
       "      <th>14</th>\n",
       "      <td>0.703734</td>\n",
       "      <td>1.029587</td>\n",
       "      <td>0.693826</td>\n",
       "      <td>1.063678</td>\n",
       "    </tr>\n",
       "    <tr>\n",
       "      <th>15</th>\n",
       "      <td>0.704656</td>\n",
       "      <td>1.027230</td>\n",
       "      <td>0.685121</td>\n",
       "      <td>1.083922</td>\n",
       "    </tr>\n",
       "    <tr>\n",
       "      <th>16</th>\n",
       "      <td>0.705032</td>\n",
       "      <td>1.026125</td>\n",
       "      <td>0.710025</td>\n",
       "      <td>1.018633</td>\n",
       "    </tr>\n",
       "    <tr>\n",
       "      <th>17</th>\n",
       "      <td>0.705080</td>\n",
       "      <td>1.022741</td>\n",
       "      <td>0.709976</td>\n",
       "      <td>1.022771</td>\n",
       "    </tr>\n",
       "    <tr>\n",
       "      <th>18</th>\n",
       "      <td>0.706160</td>\n",
       "      <td>1.022047</td>\n",
       "      <td>0.695330</td>\n",
       "      <td>1.046369</td>\n",
       "    </tr>\n",
       "    <tr>\n",
       "      <th>19</th>\n",
       "      <td>0.705480</td>\n",
       "      <td>1.021184</td>\n",
       "      <td>0.649595</td>\n",
       "      <td>1.204918</td>\n",
       "    </tr>\n",
       "    <tr>\n",
       "      <th>20</th>\n",
       "      <td>0.706578</td>\n",
       "      <td>1.020409</td>\n",
       "      <td>0.678573</td>\n",
       "      <td>1.120405</td>\n",
       "    </tr>\n",
       "    <tr>\n",
       "      <th>21</th>\n",
       "      <td>0.706208</td>\n",
       "      <td>1.019264</td>\n",
       "      <td>0.704666</td>\n",
       "      <td>1.027717</td>\n",
       "    </tr>\n",
       "    <tr>\n",
       "      <th>22</th>\n",
       "      <td>0.707312</td>\n",
       "      <td>1.018481</td>\n",
       "      <td>0.684054</td>\n",
       "      <td>1.090244</td>\n",
       "    </tr>\n",
       "    <tr>\n",
       "      <th>23</th>\n",
       "      <td>0.706978</td>\n",
       "      <td>1.017626</td>\n",
       "      <td>0.704108</td>\n",
       "      <td>1.030317</td>\n",
       "    </tr>\n",
       "    <tr>\n",
       "      <th>24</th>\n",
       "      <td>0.707081</td>\n",
       "      <td>1.017684</td>\n",
       "      <td>0.703890</td>\n",
       "      <td>1.027513</td>\n",
       "    </tr>\n",
       "    <tr>\n",
       "      <th>25</th>\n",
       "      <td>0.707306</td>\n",
       "      <td>1.017268</td>\n",
       "      <td>0.714220</td>\n",
       "      <td>1.002710</td>\n",
       "    </tr>\n",
       "    <tr>\n",
       "      <th>26</th>\n",
       "      <td>0.707603</td>\n",
       "      <td>1.015431</td>\n",
       "      <td>0.707551</td>\n",
       "      <td>1.021320</td>\n",
       "    </tr>\n",
       "    <tr>\n",
       "      <th>27</th>\n",
       "      <td>0.707657</td>\n",
       "      <td>1.013373</td>\n",
       "      <td>0.711771</td>\n",
       "      <td>1.008188</td>\n",
       "    </tr>\n",
       "    <tr>\n",
       "      <th>28</th>\n",
       "      <td>0.708064</td>\n",
       "      <td>1.013740</td>\n",
       "      <td>0.703138</td>\n",
       "      <td>1.031030</td>\n",
       "    </tr>\n",
       "    <tr>\n",
       "      <th>29</th>\n",
       "      <td>0.708567</td>\n",
       "      <td>1.012648</td>\n",
       "      <td>0.701901</td>\n",
       "      <td>1.034385</td>\n",
       "    </tr>\n",
       "  </tbody>\n",
       "</table>\n",
       "</div>"
      ],
      "text/plain": [
       "    accuracy      loss  val_accuracy  val_loss\n",
       "0   0.651532  1.234082      0.641253  1.230850\n",
       "1   0.682363  1.110618      0.621126  1.292178\n",
       "2   0.689828  1.079886      0.621854  1.276106\n",
       "3   0.693067  1.068475      0.620690  1.252243\n",
       "4   0.693922  1.064003      0.670110  1.136427\n",
       "5   0.696833  1.056730      0.689485  1.075640\n",
       "6   0.698979  1.046517      0.693196  1.064066\n",
       "7   0.698670  1.047611      0.624351  1.355233\n",
       "8   0.699495  1.046332      0.697633  1.068051\n",
       "9   0.701035  1.041290      0.642587  1.206779\n",
       "10  0.701733  1.036832      0.689388  1.066549\n",
       "11  0.702685  1.033886      0.610020  1.299493\n",
       "12  0.702903  1.031955      0.675881  1.123035\n",
       "13  0.702945  1.032663      0.691619  1.059045\n",
       "14  0.703734  1.029587      0.693826  1.063678\n",
       "15  0.704656  1.027230      0.685121  1.083922\n",
       "16  0.705032  1.026125      0.710025  1.018633\n",
       "17  0.705080  1.022741      0.709976  1.022771\n",
       "18  0.706160  1.022047      0.695330  1.046369\n",
       "19  0.705480  1.021184      0.649595  1.204918\n",
       "20  0.706578  1.020409      0.678573  1.120405\n",
       "21  0.706208  1.019264      0.704666  1.027717\n",
       "22  0.707312  1.018481      0.684054  1.090244\n",
       "23  0.706978  1.017626      0.704108  1.030317\n",
       "24  0.707081  1.017684      0.703890  1.027513\n",
       "25  0.707306  1.017268      0.714220  1.002710\n",
       "26  0.707603  1.015431      0.707551  1.021320\n",
       "27  0.707657  1.013373      0.711771  1.008188\n",
       "28  0.708064  1.013740      0.703138  1.031030\n",
       "29  0.708567  1.012648      0.701901  1.034385"
      ]
     },
     "execution_count": 64,
     "metadata": {},
     "output_type": "execute_result"
    }
   ],
   "source": []
  }
 ],
 "metadata": {
  "kernelspec": {
   "display_name": ".venv (3.11.8)",
   "language": "python",
   "name": "python3"
  },
  "language_info": {
   "codemirror_mode": {
    "name": "ipython",
    "version": 3
   },
   "file_extension": ".py",
   "mimetype": "text/x-python",
   "name": "python",
   "nbconvert_exporter": "python",
   "pygments_lexer": "ipython3",
   "version": "3.11.8"
  }
 },
 "nbformat": 4,
 "nbformat_minor": 2
}
